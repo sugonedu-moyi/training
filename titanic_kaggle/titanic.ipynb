{
 "cells": [
  {
   "cell_type": "markdown",
   "metadata": {},
   "source": [
    "<p style=\"font-family: Arial; font-size:3.5em;color:purple; font-style:bold\"><br>\n",
    "泰坦尼克号：谁活下来了</p><br>"
   ]
  },
  {
   "cell_type": "markdown",
   "metadata": {},
   "source": [
    "<p style=\"font-family: Arial; font-size:1.75em;color:#2462C0; font-style:bold\">\n",
    "Kaggle</p><br>\n",
    "[Kaggle](https://www.kaggle.com)是一个数据科学和机器学习竞赛网站。<br>\n",
    "有数据，有问题，可以辅助学习。\n",
    "<img src=\"img/kaggle.png\">"
   ]
  },
  {
   "cell_type": "markdown",
   "metadata": {},
   "source": [
    "<p style=\"font-family: Arial; font-size:1.75em;color:#2462C0; font-style:bold\">\n",
    "Titanic</p><br>\n",
    "1912年，泰坦尼克号，当时世界上最大最豪华的邮轮。<br>\n",
    "在首次航行中，这艘号称“永不沉没”的轮船，途中与一座冰山相撞，沉入大西洋底。<br>\n",
    "泰坦尼克号共搭载2224名乘客，这次事故导致1502人遇难。\n",
    "<img src=\"img/titanic.jpg\">"
   ]
  },
  {
   "cell_type": "markdown",
   "metadata": {},
   "source": [
    "<p style=\"font-family: Arial; font-size:1.75em;color:#2462C0; font-style:bold\">\n",
    "Titanic竞赛</p><br>\n",
    "Kaggle上的Titanic竞赛是一个学习目的的竞赛。<br>\n",
    "- 省略了数据收集过程\n",
    "- 训练用数据集\n",
    "- 预测用数据集\n",
    "- 分析哪种乘客更可能生存下来\n",
    "- 预测某个乘客是否能够生存"
   ]
  },
  {
   "cell_type": "markdown",
   "metadata": {},
   "source": [
    "<p style=\"font-family: Arial; font-size:1.75em;color:#2462C0; font-style:bold\">\n",
    "今天的讲座</p><br>\n",
    "完整的走一遍Titanic竞赛的基础解决方案，对数据分析和机器学习有一个基本的了解。<br>"
   ]
  },
  {
   "cell_type": "markdown",
   "metadata": {},
   "source": [
    "<p style=\"font-family: Arial; font-size:1.75em;color:#2462C0; font-style:bold\">\n",
    "数据</p><br>\n",
    "- 两个数据集：训练集和预测集\n",
    "- 每一条数据代表一个乘客\n",
    "- 每一条数据有很多属性（特征、列）\n",
    "- 训练集有一个目标属性，代表该乘客是否存活，预测集没有该属性，它是我们预测的目标\n",
    "<img src=\"img/dataset.png\">"
   ]
  },
  {
   "cell_type": "markdown",
   "metadata": {},
   "source": [
    "<p style=\"font-family: Arial; font-size:1.75em;color:#2462C0; font-style:bold\">\n",
    "Python</p><br>\n",
    "- 大数据方向，如果只能学一门语言，不要犹豫，学习Python\n",
    "- 如果还要学一门语言，学习Java"
   ]
  },
  {
   "cell_type": "markdown",
   "metadata": {},
   "source": [
    "<p style=\"font-family: Arial; font-size:1.75em;color:#2462C0; font-style:bold\">\n",
    "Jupyter Notebook</p>\n",
    "<br>\n",
    "- 开源web应用\n",
    "- 创建和共享代码笔记\n",
    "- 可以包含实时代码、等式、可视化图表以及叙述性文字\n",
    "- 我们现在看到的就是一个Jupyter笔记文档"
   ]
  },
  {
   "cell_type": "markdown",
   "metadata": {},
   "source": [
    "<p style=\"font-family: Arial; font-size:1.75em;color:#2462C0; font-style:bold\">\n",
    "加载数据集</p>\n",
    "<br>\n",
    "使用开源Python数据分析库pandas"
   ]
  },
  {
   "cell_type": "code",
   "execution_count": null,
   "metadata": {
    "collapsed": true
   },
   "outputs": [],
   "source": [
    "# 导入pandas库\n",
    "import pandas as pd\n",
    "\n",
    "# 从文件中读入训练集\n",
    "# csv: 逗号分隔的值\n",
    "train = pd.read_csv(\"train.csv\")\n",
    "\n",
    "# 从文件中读入预测数据集\n",
    "predict_set = pd.read_csv(\"test.csv\")"
   ]
  },
  {
   "cell_type": "markdown",
   "metadata": {},
   "source": [
    "<p style=\"font-family: Arial; font-size:1.75em;color:#2462C0; font-style:bold\">\n",
    "查看数据</p>"
   ]
  },
  {
   "cell_type": "code",
   "execution_count": null,
   "metadata": {},
   "outputs": [],
   "source": [
    "# 训练集前三条\n",
    "train.head(3)"
   ]
  },
  {
   "cell_type": "code",
   "execution_count": null,
   "metadata": {},
   "outputs": [],
   "source": [
    "# 预测集后三条\n",
    "# 注意少了Survived列\n",
    "predict_set.tail(3)"
   ]
  },
  {
   "cell_type": "code",
   "execution_count": null,
   "metadata": {},
   "outputs": [],
   "source": [
    "# 训练集的“形状”，多少行多少列\n",
    "train_shape = train.shape\n",
    "train_shape"
   ]
  },
  {
   "cell_type": "code",
   "execution_count": null,
   "metadata": {},
   "outputs": [],
   "source": [
    "# 预测数据集的行列数目\n",
    "predict_set_shape = predict_set.shape\n",
    "predict_set_shape"
   ]
  },
  {
   "cell_type": "markdown",
   "metadata": {},
   "source": [
    "<p style=\"font-family: Arial; font-size:1.75em;color:#2462C0; font-style:bold\">\n",
    "数据字典</p>\n",
    "<br>\n",
    "解释数据集的每一列的含义。\n",
    "- PassengerId：每个乘客的唯一标识\n",
    "- Survived：乘客是否存活（0=否，1=是）\n",
    "- Pclass：船票等级（1=一等舱，2=二等舱，3=三等舱）\n",
    "- Name：姓名\n",
    "- Sex：性别\n",
    "- Age：年龄\n",
    "- SibSp：乘客同船的兄弟姐妹或配偶的数量\n",
    "- Parch：乘客同船的父母或孩子的数量\n",
    "- Ticket：船票号码\n",
    "- Fare：乘客支付的票价\n",
    "- Cabin：乘客的船舱号\n",
    "- Embarked：乘客登船的港口（C=Cherbourg, Q=Queenstown, S=Southampton）"
   ]
  },
  {
   "cell_type": "markdown",
   "metadata": {},
   "source": [
    "<p style=\"font-family: Arial; font-size:1.75em;color:#2462C0; font-style:bold\">\n",
    "理解问题和数据是至关重要的一步</p>\n",
    "<br>\n",
    "我们要做的事情，用机器学习的术语来说，称为**分类**，**classification**。<br>\n",
    "更具体的说，**二元分类**，**binary classification**。<br>\n",
    "因为我们要把一名乘客归为某一类：存活或者遇难。"
   ]
  },
  {
   "cell_type": "markdown",
   "metadata": {},
   "source": [
    "<p style=\"font-family: Arial; font-size:1.75em;color:#2462C0; font-style:bold\">\n",
    "理解数据</p>\n",
    "<br>\n",
    "<img src=\"img/titanic_poster.jpg\">\n",
    "<br>\n",
    "看过《泰坦尼克号》电影的人应该记得，电影中女人和小孩优先上救生艇。<br>\n",
    "一等舱和三等舱的反差也让人深思。<br>\n",
    "自然可以想到，性别、年龄、船票等级这三个特征，对最终的分类结果（是否生存）应该会有较大的影响。<br>\n",
    "因此，我们选择这三个特征用于学习和预测结果。<br>\n",
    "实际工程中，**特征选择**属于**特征工程**要解决的重要问题，对结果的好坏有着重要影响。"
   ]
  },
  {
   "cell_type": "markdown",
   "metadata": {},
   "source": [
    "<p style=\"font-family: Arial; font-size:1.75em;color:#2462C0; font-style:bold\">\n",
    "类别（categorical）特征</p>\n",
    "<br>\n",
    "性别的值只有两个，男或女；船票等级的值有三个，一等舱、二等舱、三等舱。这样的特征称为类别（categorical）特征。<br>\n",
    "下面使用pandas的透视表功能，按性别分组，计算每种性别的存活平均值。"
   ]
  },
  {
   "cell_type": "code",
   "execution_count": 7,
   "metadata": {},
   "outputs": [
    {
     "data": {
      "image/png": "[encoded data removed]",
      "text/plain": [
       "<matplotlib.figure.Figure at 0x113f62438>"
      ]
     },
     "metadata": {},
     "output_type": "display_data"
    }
   ],
   "source": [
    "# 导入python的常用图表库matplotlib\n",
    "import matplotlib.pyplot as plt\n",
    "\n",
    "# 按Sex分组，计算每组的Survived的平均值\n",
    "sex_pivot = train.pivot_table(index=\"Sex\",\n",
    "                              values=\"Survived\")\n",
    "sex_pivot.plot.bar()\n",
    "plt.show()"
   ]
  },
  {
   "cell_type": "code",
   "execution_count": 8,
   "metadata": {},
   "outputs": [
    {
     "data": {
      "image/png": "[encoded data removed]",
      "text/plain": [
       "<matplotlib.figure.Figure at 0x114022cc0>"
      ]
     },
     "metadata": {},
     "output_type": "display_data"
    }
   ],
   "source": [
    "# 按船票等级分组计算\n",
    "pclass_pivot = train.pivot_table(index=\"Pclass\",\n",
    "                                 values=\"Survived\")\n",
    "pclass_pivot.plot.bar()\n",
    "plt.show()"
   ]
  },
  {
   "cell_type": "markdown",
   "metadata": {},
   "source": [
    "<p style=\"font-family: Arial; font-size:1.75em;color:#2462C0; font-style:bold\">\n",
    "连续（continuous）特征</p>\n",
    "<br>\n",
    "和性别不同，年龄这个特征属于连续特征，取值是连续的数值。<br>\n",
    "下面对年龄做一些处理，包括缺失值填充，将年龄分类。<br>\n",
    "如图所示：\n",
    "<img src=\"img/process_age.png\">"
   ]
  },
  {
   "cell_type": "code",
   "execution_count": 9,
   "metadata": {
    "collapsed": true
   },
   "outputs": [],
   "source": [
    "# 定义一个处理年龄的函数\n",
    "# 训练集、测试集都可以使用\n",
    "def process_age(df, cut_points, label_names):\n",
    "    # 年龄缺失值使用-0.5填充\n",
    "    df[\"Age\"] = df[\"Age\"].fillna(-0.5)\n",
    "    # 为数据集增加一个 年龄分类 属性\n",
    "    df[\"Age_categories\"] = pd.cut(df[\"Age\"],\n",
    "                                  cut_points,\n",
    "                                  labels=label_names)\n",
    "    return df"
   ]
  },
  {
   "cell_type": "code",
   "execution_count": 10,
   "metadata": {},
   "outputs": [
    {
     "data": {
      "image/png": "[encoded data removed]",
      "text/plain": [
       "<matplotlib.figure.Figure at 0x1174fb668>"
      ]
     },
     "metadata": {},
     "output_type": "display_data"
    }
   ],
   "source": [
    "# 年龄分类的边界点\n",
    "cut_points = [-1, 0, 15, 100]\n",
    "# 年龄分类的标签\n",
    "label_names = ['Missing', \n",
    "               'Child', 'Adult']\n",
    "\n",
    "# 对数据集的年龄进行处理\n",
    "train = process_age(train, cut_points, label_names)\n",
    "predict_set = process_age(predict_set, cut_points, label_names)\n",
    "\n",
    "# 按年龄分类计算存活率，并以图表展示\n",
    "age_cat_pivot = train.pivot_table(index=\"Age_categories\",\n",
    "                                  values=\"Survived\")\n",
    "age_cat_pivot.plot.bar()\n",
    "plt.show()"
   ]
  },
  {
   "cell_type": "code",
   "execution_count": 11,
   "metadata": {},
   "outputs": [
    {
     "data": {
      "image/png": "[encoded data removed]",
      "text/plain": [
       "<matplotlib.figure.Figure at 0x11750fef0>"
      ]
     },
     "metadata": {},
     "output_type": "display_data"
    }
   ],
   "source": [
    "# 年龄分类的边界点\n",
    "cut_points = [-1, 0, 5, 12, 18, 35, 60, 100]\n",
    "# 年龄分类的标签\n",
    "label_names = ['Missing', 'Infant',\n",
    "               'Child', 'Teenager',\n",
    "               'Young Adult', 'Adult',\n",
    "               'Senior']\n",
    "\n",
    "# 对数据集的年龄进行处理\n",
    "train = process_age(train, cut_points, label_names)\n",
    "predict_set = process_age(predict_set, cut_points, label_names)\n",
    "\n",
    "# 按年龄分类计算存活率，并以图表展示\n",
    "age_cat_pivot = train.pivot_table(index=\"Age_categories\",\n",
    "                                  values=\"Survived\")\n",
    "age_cat_pivot.plot.bar()\n",
    "plt.show()"
   ]
  },
  {
   "cell_type": "markdown",
   "metadata": {},
   "source": [
    "<p style=\"font-family: Arial; font-size:1.75em;color:#2462C0; font-style:bold\">\n",
    "为机器学习做准备 - 船票等级</p>\n",
    "<br>\n",
    "船票等级（Pclass）取值为1、2、3，这并不意味着二等舱的价值是一等舱的2倍。<br>\n",
    "为了避免误导，对Pclass做处理，生成三个新的特征。\n",
    "<img src=\"img/pclass.png\">"
   ]
  },
  {
   "cell_type": "code",
   "execution_count": 12,
   "metadata": {
    "collapsed": true
   },
   "outputs": [],
   "source": [
    "# 创建新列，并加入到原来的数据集中\n",
    "def create_dummies(df, column_name):\n",
    "    dummies = pd.get_dummies(df[column_name],\n",
    "                             prefix=column_name)\n",
    "    df = pd.concat([df, dummies], axis=1)\n",
    "    return df\n",
    "\n",
    "\n",
    "# 为Pclass创建新的列\n",
    "train = create_dummies(train, \"Pclass\")\n",
    "predict_set = create_dummies(predict_set, \"Pclass\")"
   ]
  },
  {
   "cell_type": "code",
   "execution_count": 13,
   "metadata": {
    "collapsed": true
   },
   "outputs": [],
   "source": [
    "# 类似地，为性别和年龄类别创建新列\n",
    "train = create_dummies(train, \"Sex\")\n",
    "predict_set = create_dummies(predict_set, \"Sex\")\n",
    "train = create_dummies(train, \"Age_categories\")\n",
    "predict_set = create_dummies(predict_set, \"Age_categories\")"
   ]
  },
  {
   "cell_type": "code",
   "execution_count": 15,
   "metadata": {},
   "outputs": [
    {
     "data": {
      "text/html": [
       "<div>\n",
       "<style>\n",
       "    .dataframe thead tr:only-child th {\n",
       "        text-align: right;\n",
       "    }\n",
       "\n",
       "    .dataframe thead th {\n",
       "        text-align: left;\n",
       "    }\n",
       "\n",
       "    .dataframe tbody tr th {\n",
       "        vertical-align: top;\n",
       "    }\n",
       "</style>\n",
       "<table border=\"1\" class=\"dataframe\">\n",
       "  <thead>\n",
       "    <tr style=\"text-align: right;\">\n",
       "      <th></th>\n",
       "      <th>PassengerId</th>\n",
       "      <th>Survived</th>\n",
       "      <th>Pclass</th>\n",
       "      <th>Name</th>\n",
       "      <th>Sex</th>\n",
       "      <th>Age</th>\n",
       "      <th>SibSp</th>\n",
       "      <th>Parch</th>\n",
       "      <th>Ticket</th>\n",
       "      <th>Fare</th>\n",
       "      <th>...</th>\n",
       "      <th>Pclass_3</th>\n",
       "      <th>Sex_female</th>\n",
       "      <th>Sex_male</th>\n",
       "      <th>Age_categories_Missing</th>\n",
       "      <th>Age_categories_Infant</th>\n",
       "      <th>Age_categories_Child</th>\n",
       "      <th>Age_categories_Teenager</th>\n",
       "      <th>Age_categories_Young Adult</th>\n",
       "      <th>Age_categories_Adult</th>\n",
       "      <th>Age_categories_Senior</th>\n",
       "    </tr>\n",
       "  </thead>\n",
       "  <tbody>\n",
       "    <tr>\n",
       "      <th>0</th>\n",
       "      <td>1</td>\n",
       "      <td>0</td>\n",
       "      <td>3</td>\n",
       "      <td>Braund, Mr. Owen Harris</td>\n",
       "      <td>male</td>\n",
       "      <td>22.0</td>\n",
       "      <td>1</td>\n",
       "      <td>0</td>\n",
       "      <td>A/5 21171</td>\n",
       "      <td>7.2500</td>\n",
       "      <td>...</td>\n",
       "      <td>1</td>\n",
       "      <td>0</td>\n",
       "      <td>1</td>\n",
       "      <td>0</td>\n",
       "      <td>0</td>\n",
       "      <td>0</td>\n",
       "      <td>0</td>\n",
       "      <td>1</td>\n",
       "      <td>0</td>\n",
       "      <td>0</td>\n",
       "    </tr>\n",
       "    <tr>\n",
       "      <th>1</th>\n",
       "      <td>2</td>\n",
       "      <td>1</td>\n",
       "      <td>1</td>\n",
       "      <td>Cumings, Mrs. John Bradley (Florence Briggs Th...</td>\n",
       "      <td>female</td>\n",
       "      <td>38.0</td>\n",
       "      <td>1</td>\n",
       "      <td>0</td>\n",
       "      <td>PC 17599</td>\n",
       "      <td>71.2833</td>\n",
       "      <td>...</td>\n",
       "      <td>0</td>\n",
       "      <td>1</td>\n",
       "      <td>0</td>\n",
       "      <td>0</td>\n",
       "      <td>0</td>\n",
       "      <td>0</td>\n",
       "      <td>0</td>\n",
       "      <td>0</td>\n",
       "      <td>1</td>\n",
       "      <td>0</td>\n",
       "    </tr>\n",
       "    <tr>\n",
       "      <th>2</th>\n",
       "      <td>3</td>\n",
       "      <td>1</td>\n",
       "      <td>3</td>\n",
       "      <td>Heikkinen, Miss. Laina</td>\n",
       "      <td>female</td>\n",
       "      <td>26.0</td>\n",
       "      <td>0</td>\n",
       "      <td>0</td>\n",
       "      <td>STON/O2. 3101282</td>\n",
       "      <td>7.9250</td>\n",
       "      <td>...</td>\n",
       "      <td>1</td>\n",
       "      <td>1</td>\n",
       "      <td>0</td>\n",
       "      <td>0</td>\n",
       "      <td>0</td>\n",
       "      <td>0</td>\n",
       "      <td>0</td>\n",
       "      <td>1</td>\n",
       "      <td>0</td>\n",
       "      <td>0</td>\n",
       "    </tr>\n",
       "  </tbody>\n",
       "</table>\n",
       "<p>3 rows × 25 columns</p>\n",
       "</div>"
      ],
      "text/plain": [
       "   PassengerId  Survived  Pclass  \\\n",
       "0            1         0       3   \n",
       "1            2         1       1   \n",
       "2            3         1       3   \n",
       "\n",
       "                                                Name     Sex   Age  SibSp  \\\n",
       "0                            Braund, Mr. Owen Harris    male  22.0      1   \n",
       "1  Cumings, Mrs. John Bradley (Florence Briggs Th...  female  38.0      1   \n",
       "2                             Heikkinen, Miss. Laina  female  26.0      0   \n",
       "\n",
       "   Parch            Ticket     Fare          ...           Pclass_3  \\\n",
       "0      0         A/5 21171   7.2500          ...                  1   \n",
       "1      0          PC 17599  71.2833          ...                  0   \n",
       "2      0  STON/O2. 3101282   7.9250          ...                  1   \n",
       "\n",
       "  Sex_female Sex_male  Age_categories_Missing  Age_categories_Infant  \\\n",
       "0          0        1                       0                      0   \n",
       "1          1        0                       0                      0   \n",
       "2          1        0                       0                      0   \n",
       "\n",
       "   Age_categories_Child  Age_categories_Teenager  Age_categories_Young Adult  \\\n",
       "0                     0                        0                           1   \n",
       "1                     0                        0                           0   \n",
       "2                     0                        0                           1   \n",
       "\n",
       "   Age_categories_Adult  Age_categories_Senior  \n",
       "0                     0                      0  \n",
       "1                     1                      0  \n",
       "2                     0                      0  \n",
       "\n",
       "[3 rows x 25 columns]"
      ]
     },
     "execution_count": 15,
     "metadata": {},
     "output_type": "execute_result"
    }
   ],
   "source": [
    "train.head(3)"
   ]
  },
  {
   "cell_type": "markdown",
   "metadata": {},
   "source": [
    "<p style=\"font-family: Arial; font-size:1.75em;color:#2462C0; font-style:bold\">\n",
    "逻辑回归（Logistic Regression）</p>\n",
    "<br>\n",
    "现在进入训练模型的阶段。<br>\n",
    "使用Python的[scikit-learn](http://scikit-learn.org)库，主要工作流程如下：<br>\n",
    "- 创建指定的机器学习模型对象\n",
    "- 使用训练数据训练模型\n",
    "- 使用生成的模型做预测\n",
    "- 评估预测的准确性\n",
    "我们选用LogisticRegression，即逻辑回归来做尝试。"
   ]
  },
  {
   "cell_type": "code",
   "execution_count": 16,
   "metadata": {},
   "outputs": [
    {
     "data": {
      "text/plain": [
       "LogisticRegression(C=1.0, class_weight=None, dual=False, fit_intercept=True,\n",
       "          intercept_scaling=1, max_iter=100, multi_class='ovr', n_jobs=1,\n",
       "          penalty='l2', random_state=None, solver='liblinear', tol=0.0001,\n",
       "          verbose=0, warm_start=False)"
      ]
     },
     "execution_count": 16,
     "metadata": {},
     "output_type": "execute_result"
    }
   ],
   "source": [
    "# 从sklearn库中导入逻辑回归模型\n",
    "from sklearn.linear_model import LogisticRegression\n",
    "\n",
    "# 选择这些特征，用于训练模型\n",
    "columns = ['Pclass_1', 'Pclass_2', 'Pclass_3',\n",
    "           'Sex_female', 'Sex_male',\n",
    "           'Age_categories_Missing','Age_categories_Infant',\n",
    "           'Age_categories_Child', 'Age_categories_Teenager',\n",
    "           'Age_categories_Young Adult',\n",
    "           'Age_categories_Adult',\n",
    "           'Age_categories_Senior']\n",
    "\n",
    "# 创建模型对象\n",
    "lr = LogisticRegression()\n",
    "\n",
    "# 使用所选特征，针对目标Survived进行训练\n",
    "lr.fit(train[columns], train['Survived'])"
   ]
  },
  {
   "cell_type": "markdown",
   "metadata": {},
   "source": [
    "<p style=\"font-family: Arial; font-size:1.75em;color:#2462C0; font-style:bold\">\n",
    "划分训练数据集</p>\n",
    "<br>\n",
    "将训练集随机划分为两部分：\n",
    "- 一部分用于训练模型（通常使用训练集的80%或2/3）\n",
    "- 一部分用于测试模型（使用剩余的20%或1/3）\n",
    "<br><br>\n",
    "这里，使用sklearn的train_test_split()函数随机划分<br>\n",
    "输入(X, y) -> 输出(train_X, test_X, train_y, test_y)\n",
    "<img src=\"img/split.png\">"
   ]
  },
  {
   "cell_type": "code",
   "execution_count": 17,
   "metadata": {
    "collapsed": true
   },
   "outputs": [],
   "source": [
    "from sklearn.model_selection import train_test_split\n",
    "\n",
    "columns = ['Pclass_1', 'Pclass_2', 'Pclass_3',\n",
    "           'Sex_female', 'Sex_male',\n",
    "           'Age_categories_Missing',\n",
    "           'Age_categories_Infant',\n",
    "           'Age_categories_Child',\n",
    "           'Age_categories_Teenager',\n",
    "           'Age_categories_Young Adult',\n",
    "           'Age_categories_Adult',\n",
    "           'Age_categories_Senior']\n",
    "\n",
    "# 输入\n",
    "all_X = train[columns]\n",
    "all_y = train['Survived']\n",
    "\n",
    "# 划分训练集\n",
    "train_X, test_X, train_y, test_y = train_test_split(\n",
    "    all_X, all_y, test_size=0.2, random_state=0)"
   ]
  },
  {
   "cell_type": "markdown",
   "metadata": {},
   "source": [
    "<p style=\"font-family: Arial; font-size:1.75em;color:#2462C0; font-style:bold\">\n",
    "使用模型做预测</p>\n",
    "<br>\n",
    "基于前面划分的训练集的训练部分，使用逻辑回归方法训练得到了对应的模型。<br>\n",
    "然后，我们就可以使用这个模型，在测试部分的数据集中做预测了。"
   ]
  },
  {
   "cell_type": "code",
   "execution_count": 18,
   "metadata": {},
   "outputs": [
    {
     "data": {
      "text/plain": [
       "array([0, 0, 0, 1, 1, 0, 1, 1, 0, 1, 0, 1, 0, 1, 1, 1, 0, 0, 0, 0, 0, 1, 0,\n",
       "       0, 1, 1, 0, 1, 1, 1, 0, 1, 0, 0, 0, 0, 0, 0, 0, 0, 0, 0, 0, 0, 1, 0,\n",
       "       0, 1, 0, 0, 0, 0, 1, 0, 0, 0, 0, 1, 0, 0, 0, 1, 1, 0, 1, 0, 1, 0, 1,\n",
       "       1, 1, 0, 0, 0, 0, 1, 0, 0, 0, 0, 0, 0, 1, 0, 0, 1, 1, 0, 1, 0, 0, 0,\n",
       "       1, 1, 1, 0, 1, 0, 0, 0, 0, 0, 0, 0, 1, 1, 1, 0, 0, 1, 0, 1, 0, 1, 0,\n",
       "       1, 1, 1, 0, 1, 0, 0, 0, 0, 0, 0, 0, 0, 0, 0, 1, 0, 0, 1, 0, 0, 0, 0,\n",
       "       0, 0, 0, 1, 0, 1, 1, 1, 0, 1, 1, 0, 0, 1, 0, 0, 1, 0, 0, 0, 1, 1, 0,\n",
       "       0, 1, 1, 0, 0, 0, 0, 0, 0, 0, 1, 0, 0, 1, 0, 1, 0, 0])"
      ]
     },
     "execution_count": 18,
     "metadata": {},
     "output_type": "execute_result"
    }
   ],
   "source": [
    "# 创建逻辑回归模型\n",
    "lr = LogisticRegression()\n",
    "# 使用训练集的训练部分，训练模型\n",
    "lr.fit(train_X, train_y)\n",
    "# 使用模型，在测试部分做预测\n",
    "predictions = lr.predict(test_X)\n",
    "predictions"
   ]
  },
  {
   "cell_type": "markdown",
   "metadata": {},
   "source": [
    "<p style=\"font-family: Arial; font-size:1.75em;color:#2462C0; font-style:bold\">\n",
    "模型的准确性</p>\n",
    "<br>\n",
    "如何衡量这个模型的准确性？<br>\n",
    "常用的方法是，计算正确结果的百分比，即正确率。<br>\n",
    "sklearn的accuracy_score()函数可以帮助我们计算。"
   ]
  },
  {
   "cell_type": "code",
   "execution_count": 19,
   "metadata": {},
   "outputs": [
    {
     "name": "stdout",
     "output_type": "stream",
     "text": [
      "0.810055865922\n"
     ]
    }
   ],
   "source": [
    "from sklearn.metrics import accuracy_score\n",
    "accuracy = accuracy_score(test_y, predictions)\n",
    "print(accuracy)"
   ]
  },
  {
   "cell_type": "markdown",
   "metadata": {},
   "source": [
    "<p style=\"font-family: Arial; font-size:1.75em;color:#2462C0; font-style:bold\">\n",
    "交叉验证（Cross Validation）</p>\n",
    "<br>\n",
    "前面计算模型准确性的方法，带有相当的随机性。<br>\n",
    "如果再划分一次进行计算，得到的结果可能和前一次相差很多。<br>\n",
    "为了得到较为稳定的准确性数值，需要使用交叉验证（Cross Validation）方法。<br>\n",
    "总的思想是，在训练集上作多次划分，得到多个结果，然后求平均值。<br>\n",
    "这里我们采用交叉验证中常见的一种，称为**k-fold**。<br>\n",
    "<img src=\"img/k_fold.png\">\n",
    "如上图所示，将训练集分成k块。<br>\n",
    "迭代k次，每次用其中一块作为测试集，其余k-1块作为训练集。<br>\n",
    "得到k个准确性数值，最后求平均值。"
   ]
  },
  {
   "cell_type": "code",
   "execution_count": 20,
   "metadata": {},
   "outputs": [
    {
     "name": "stdout",
     "output_type": "stream",
     "text": [
      "[ 0.8         0.81111111  0.7752809   0.87640449  0.80898876  0.78651685\n",
      "  0.76404494  0.76404494  0.83146067  0.80681818]\n",
      "0.802467086596\n"
     ]
    }
   ],
   "source": [
    "from sklearn.model_selection import cross_val_score\n",
    "import numpy as np\n",
    "\n",
    "# 新建一个逻辑回归模型对象\n",
    "lr = LogisticRegression()\n",
    "# 进行k-fold交叉验证，k=10，得到10个准确性分数\n",
    "scores = cross_val_score(lr,\n",
    "                         all_X,\n",
    "                         all_y,\n",
    "                         cv=10)\n",
    "# 求平均值，作为最终准确性分数\n",
    "accuracy = np.mean(scores)\n",
    "print(scores)\n",
    "print(accuracy)"
   ]
  },
  {
   "cell_type": "markdown",
   "metadata": {},
   "source": [
    "<p style=\"font-family: Arial; font-size:1.75em;color:#2462C0; font-style:bold\">\n",
    "在整个训练集上训练模型并预测</p>\n",
    "<br>\n",
    "交叉验证告诉我们，逻辑回归模型的准确性约为80%。<br>\n",
    "什么程度的准确性可以接受，取决于具体的问题和应用场景。现在姑且认为是可以接受的。<br>\n",
    "那么下一步，将在整个训练集上训练模型，并且在未知结果的预测集上做预测。"
   ]
  },
  {
   "cell_type": "code",
   "execution_count": 21,
   "metadata": {},
   "outputs": [
    {
     "data": {
      "text/plain": [
       "array([0, 0, 0, 0, 1, 0, 1, 0, 1, 0, 0, 0, 1, 0, 1, 1, 0, 0, 1, 0, 0, 0, 1,\n",
       "       0, 1, 0, 1, 0, 0, 0, 0, 0, 1, 1, 0, 0, 1, 1, 0, 0, 0, 0, 0, 1, 1, 0,\n",
       "       0, 0, 1, 0, 0, 0, 1, 1, 0, 0, 0, 0, 0, 1, 0, 0, 0, 1, 0, 1, 1, 0, 0,\n",
       "       1, 1, 0, 1, 0, 1, 0, 0, 1, 0, 1, 0, 0, 0, 0, 0, 0, 1, 1, 1, 1, 1, 0,\n",
       "       1, 0, 0, 0, 1, 0, 1, 0, 1, 0, 0, 0, 1, 0, 0, 0, 0, 0, 0, 1, 1, 1, 1,\n",
       "       0, 0, 1, 0, 1, 1, 0, 1, 0, 0, 1, 0, 1, 0, 0, 0, 0, 1, 0, 0, 0, 0, 0,\n",
       "       1, 0, 1, 1, 0, 0, 0, 0, 0, 0, 0, 0, 1, 0, 0, 0, 0, 0, 1, 1, 0, 1, 1,\n",
       "       0, 1, 0, 0, 1, 0, 0, 1, 1, 0, 0, 0, 0, 0, 1, 1, 0, 1, 1, 0, 0, 1, 0,\n",
       "       1, 0, 1, 0, 1, 0, 0, 0, 0, 0, 0, 0, 0, 1, 0, 1, 1, 0, 0, 1, 0, 0, 1,\n",
       "       0, 1, 0, 0, 0, 0, 1, 0, 0, 1, 0, 1, 0, 1, 0, 1, 0, 1, 1, 0, 1, 0, 0,\n",
       "       0, 1, 0, 0, 0, 0, 0, 0, 1, 1, 1, 1, 0, 0, 0, 0, 1, 0, 1, 1, 1, 0, 0,\n",
       "       0, 0, 0, 0, 0, 1, 0, 0, 0, 1, 1, 0, 0, 0, 0, 1, 0, 0, 0, 1, 1, 0, 1,\n",
       "       0, 0, 0, 0, 1, 0, 1, 1, 1, 0, 0, 0, 0, 0, 0, 1, 0, 0, 0, 0, 1, 0, 0,\n",
       "       0, 0, 0, 0, 0, 1, 1, 0, 0, 0, 0, 0, 0, 0, 0, 1, 1, 0, 0, 0, 0, 0, 0,\n",
       "       0, 0, 1, 0, 1, 0, 0, 0, 1, 0, 0, 1, 0, 0, 0, 0, 0, 0, 0, 0, 0, 1, 0,\n",
       "       1, 0, 0, 0, 1, 1, 0, 0, 0, 1, 0, 1, 0, 0, 1, 0, 1, 1, 0, 1, 1, 0, 1,\n",
       "       1, 0, 0, 1, 0, 0, 1, 1, 1, 0, 0, 0, 0, 0, 1, 1, 0, 1, 0, 0, 0, 0, 0,\n",
       "       1, 0, 0, 0, 1, 0, 1, 0, 0, 1, 0, 1, 0, 0, 0, 0, 0, 1, 1, 1, 1, 1, 0,\n",
       "       1, 0, 0, 0])"
      ]
     },
     "execution_count": 21,
     "metadata": {},
     "output_type": "execute_result"
    }
   ],
   "source": [
    "# 特征列\n",
    "columns = ['Pclass_1', 'Pclass_2', 'Pclass_3',\n",
    "           'Sex_female', 'Sex_male',\n",
    "           'Age_categories_Missing',\n",
    "           'Age_categories_Infant',\n",
    "           'Age_categories_Child',\n",
    "           'Age_categories_Teenager',\n",
    "           'Age_categories_Young Adult',\n",
    "           'Age_categories_Adult',\n",
    "           'Age_categories_Senior']\n",
    "\n",
    "# 新建逻辑回归模型对象\n",
    "lr = LogisticRegression()\n",
    "# 使用整个训练集训练模型\n",
    "lr.fit(all_X, all_y)\n",
    "# 对预测数据集做预测\n",
    "predict_set_predictions = lr.predict(predict_set[columns])\n",
    "predict_set_predictions"
   ]
  },
  {
   "cell_type": "markdown",
   "metadata": {},
   "source": [
    "<p style=\"font-family: Arial; font-size:1.75em;color:#2462C0; font-style:bold\">\n",
    "成绩</p>\n",
    "<br>\n",
    "预测的结果如何？<br>\n",
    "得分为0.75598，或者说，正确率为75.6%。<br>\n",
    "这是一个起点，我们使用并不复杂的手段，得到了一个还过得去的分数。<br>\n",
    "后续还有优化的空间和手段。"
   ]
  },
  {
   "cell_type": "markdown",
   "metadata": {},
   "source": [
    "<p style=\"font-family: Arial; font-size:1.75em;color:#2462C0; font-style:bold\">\n",
    "机器学习并非魔法</p>\n",
    "<br>\n",
    "如果有人得到了一个准确率为100%的模型，可以预测船上每一个人的生死。<br>\n",
    "这个人一定是个骗子。<br>\n",
    "现实中，影响一件事结果的因素可能是无比复杂的，机器学习通常得到一个大概率的结果。<br>\n",
    "在合适的场景下，这个结果可以给我们非常大的帮助。"
   ]
  },
  {
   "cell_type": "markdown",
   "metadata": {},
   "source": [
    "<p style=\"font-family: Arial; font-size:1.75em;color:#2462C0; font-style:bold\">\n",
    "下一步</p>\n",
    "<br>\n",
    "我们有很多方法手段，可以提升结果的准确性。<br>\n",
    "例如：\n",
    "- 改进特征\n",
    "  - 选择更多相关的特征\n",
    "  - 在现有数据上创建新的特征\n",
    "- 改进模型\n",
    "  - 尝试更多的机器学习模型\n",
    "  - 进行模型的参数优化"
   ]
  }
 ],
 "metadata": {
  "kernelspec": {
   "display_name": "Python 3",
   "language": "python",
   "name": "python3"
  },
  "language_info": {
   "codemirror_mode": {
    "name": "ipython",
    "version": 3
   },
   "file_extension": ".py",
   "mimetype": "text/x-python",
   "name": "python",
   "nbconvert_exporter": "python",
   "pygments_lexer": "ipython3",
   "version": "3.6.3"
  }
 },
 "nbformat": 4,
 "nbformat_minor": 2
}
