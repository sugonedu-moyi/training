{
 "cells": [
  {
   "cell_type": "markdown",
   "metadata": {},
   "source": [
    "<p style=\"font-family: Arial; font-size:2.5em;color:purple; font-style:bold\"><br/>\n",
    "商丘师范学院网络爬虫\n",
    "</p>\n",
    "\n",
    "----------------------------"
   ]
  },
  {
   "cell_type": "markdown",
   "metadata": {},
   "source": [
    "<p style=\"font-family: Arial; font-size:1.5em;color:purple; font-style:bold\">\n",
    "冰山\n",
    "</p>\n",
    "\n",
    "- 最终看到的结果（程序）只是浮出海面上的部分\n",
    "- 开发探索的过程是海面之下的部分\n",
    "- 今天我们将看到冰山的全貌"
   ]
  },
  {
   "cell_type": "markdown",
   "metadata": {},
   "source": [
    "<p style=\"font-family: Arial; font-size:1.5em;color:purple; font-style:bold\">\n",
    "鸟瞰整个森林\n",
    "</p>\n",
    "\n",
    "- 互联网（Internet）\n",
    "  - TCP/IP协议\n",
    "- 万维网（World Wide Web）\n",
    "  - 超文本传输协议（HTTP）\n",
    "  - 超文本标记语言（HTML）\n",
    "  - 统一资源定位符（URL）"
   ]
  },
  {
   "cell_type": "markdown",
   "metadata": {},
   "source": [
    "<p style=\"font-family: Arial; font-size:1.5em;color:purple; font-style:bold\">\n",
    "访问一个网页时发生了什么？\n",
    "</p>\n",
    "\n",
    "[商丘师范学院学校要闻](http://www.sqnu.edu.cn/index/xxyw.htm)"
   ]
  },
  {
   "cell_type": "markdown",
   "metadata": {},
   "source": [
    "<p style=\"font-family: Arial; font-size:1.5em;color:purple; font-style:bold\">\n",
    "浏览器开发者工具\n",
    "</p>\n",
    "\n",
    "- Chrome\n",
    "- Firefox"
   ]
  },
  {
   "cell_type": "markdown",
   "metadata": {},
   "source": [
    "<p style=\"font-family: Arial; font-size:1.5em;color:purple; font-style:bold\">\n",
    "Python和网络爬虫\n",
    "</p>\n",
    "\n",
    "- [Requests](http://python-requests.org)\n",
    "  - 使用HTTP协议发送网络请求，接收响应\n",
    "\n",
    "\n",
    "- [BeautifulSoup](http://www.crummy.com/software/BeautifulSoup/bs4/)\n",
    "  - 从HTML文档中抽取数据"
   ]
  },
  {
   "cell_type": "markdown",
   "metadata": {},
   "source": [
    "<p style=\"font-family: Arial; font-size:1.5em;color:purple; font-style:bold\">\n",
    "导入**Requests**和**BeautifulSoup**\n",
    "</p>"
   ]
  },
  {
   "cell_type": "code",
   "execution_count": null,
   "metadata": {
    "collapsed": true
   },
   "outputs": [],
   "source": [
    "import requests\n",
    "import bs4"
   ]
  },
  {
   "cell_type": "markdown",
   "metadata": {},
   "source": [
    "<p style=\"font-family: Arial; font-size:1.5em;color:purple; font-style:bold\">\n",
    "获取学校要闻列表页\n",
    "</p>"
   ]
  },
  {
   "cell_type": "code",
   "execution_count": null,
   "metadata": {
    "collapsed": true
   },
   "outputs": [],
   "source": [
    "response = requests.get('http://www.sqnu.edu.cn/index/xxyw.htm')"
   ]
  },
  {
   "cell_type": "markdown",
   "metadata": {},
   "source": [
    "<p style=\"font-family: Arial; font-size:1.5em;color:purple; font-style:bold\">\n",
    "查看响应状态\n",
    "</p>\n",
    "\n",
    "HTTP状态码"
   ]
  },
  {
   "cell_type": "code",
   "execution_count": null,
   "metadata": {},
   "outputs": [],
   "source": [
    "response.status_code"
   ]
  },
  {
   "cell_type": "markdown",
   "metadata": {},
   "source": [
    "<p style=\"font-family: Arial; font-size:1.5em;color:purple; font-style:bold\">\n",
    "设置响应内容文本的字符编码\n",
    "</p>"
   ]
  },
  {
   "cell_type": "code",
   "execution_count": null,
   "metadata": {
    "collapsed": true
   },
   "outputs": [],
   "source": [
    "response.encoding = 'utf-8'"
   ]
  },
  {
   "cell_type": "markdown",
   "metadata": {},
   "source": [
    "<p style=\"font-family: Arial; font-size:1.5em;color:purple; font-style:bold\">\n",
    "查看响应的内容\n",
    "</p>\n",
    "\n",
    "- 一共有多少个字符？\n",
    "- 打印前100个字符"
   ]
  },
  {
   "cell_type": "code",
   "execution_count": null,
   "metadata": {},
   "outputs": [],
   "source": [
    "len(response.text)"
   ]
  },
  {
   "cell_type": "code",
   "execution_count": null,
   "metadata": {},
   "outputs": [],
   "source": [
    "print(response.text[0:100])"
   ]
  },
  {
   "cell_type": "markdown",
   "metadata": {
    "slideshow": {
     "slide_type": "-"
    }
   },
   "source": [
    "<p style=\"font-family: Arial; font-size:1.5em;color:purple; font-style:bold\">\n",
    "HTML文档是一棵由标签构成的树\n",
    "</p>\n",
    "\n",
    "- 通过浏览器的开发者工具查看\n",
    "- 使用 **Beautiful Soup** 从中提取数据"
   ]
  },
  {
   "cell_type": "markdown",
   "metadata": {},
   "source": [
    "<p style=\"font-family: Arial; font-size:1.5em;color:purple; font-style:bold\">\n",
    "创建BeautifulSoup对象\n",
    "</p>\n",
    "\n",
    "用来表示整个HTML文档"
   ]
  },
  {
   "cell_type": "code",
   "execution_count": null,
   "metadata": {
    "collapsed": true
   },
   "outputs": [],
   "source": [
    "soup = bs4.BeautifulSoup(response.text, 'lxml')"
   ]
  },
  {
   "cell_type": "markdown",
   "metadata": {},
   "source": [
    "<p style=\"font-family: Arial; font-size:1.5em;color:purple; font-style:bold\">\n",
    "学校要闻页面的文档结构\n",
    "</p>\n",
    "\n",
    "- html\n",
    "  - body\n",
    "    - div\n",
    "      - div\n",
    "        - div\n",
    "          - ul\n",
    "            - li\n",
    "              - a"
   ]
  },
  {
   "cell_type": "markdown",
   "metadata": {},
   "source": [
    "<p style=\"font-family: Arial; font-size:1.5em;color:purple; font-style:bold\">\n",
    "提取翻页列表标签\n",
    "</p>"
   ]
  },
  {
   "cell_type": "code",
   "execution_count": null,
   "metadata": {},
   "outputs": [],
   "source": [
    "fylb_tag = soup.find(\"ul\", class_=\"fylb\")\n",
    "type(fylb_tag)"
   ]
  },
  {
   "cell_type": "markdown",
   "metadata": {},
   "source": [
    "<p style=\"font-family: Arial; font-size:1.5em;color:purple; font-style:bold\">\n",
    "提取文章的超链接的列表\n",
    "</p>"
   ]
  },
  {
   "cell_type": "code",
   "execution_count": null,
   "metadata": {
    "collapsed": true
   },
   "outputs": [],
   "source": [
    "a_list = fylb_tag.find_all('a')"
   ]
  },
  {
   "cell_type": "markdown",
   "metadata": {},
   "source": [
    "<p style=\"font-family: Arial; font-size:1.5em;color:purple; font-style:bold\">\n",
    "查看第一篇文章的相对URL\n",
    "</p>"
   ]
  },
  {
   "cell_type": "code",
   "execution_count": null,
   "metadata": {},
   "outputs": [],
   "source": [
    "a_list[0]['href']"
   ]
  },
  {
   "cell_type": "markdown",
   "metadata": {},
   "source": [
    "<p style=\"font-family: Arial; font-size:1.5em;color:purple; font-style:bold\">\n",
    "组装第一篇文章的完整URL\n",
    "</p>"
   ]
  },
  {
   "cell_type": "code",
   "execution_count": null,
   "metadata": {},
   "outputs": [],
   "source": [
    "from urllib.parse import urljoin\n",
    "first_url = urljoin(response.url, a_list[0]['href'])\n",
    "first_url"
   ]
  },
  {
   "cell_type": "markdown",
   "metadata": {},
   "source": [
    "<p style=\"font-family: Arial; font-size:1.5em;color:purple; font-style:bold\">\n",
    "发送请求，获取第一篇文章\n",
    "</p>"
   ]
  },
  {
   "cell_type": "code",
   "execution_count": null,
   "metadata": {},
   "outputs": [],
   "source": [
    "first_response = requests.get(first_url)\n",
    "first_response.status_code"
   ]
  },
  {
   "cell_type": "code",
   "execution_count": null,
   "metadata": {
    "collapsed": true
   },
   "outputs": [],
   "source": [
    "first_response.encoding = 'utf-8'\n",
    "first_soup = bs4.BeautifulSoup(first_response.text, 'lxml')"
   ]
  },
  {
   "cell_type": "markdown",
   "metadata": {},
   "source": [
    "<p style=\"font-family: Arial; font-size:1.5em;color:purple; font-style:bold\">\n",
    "分析具体文章页面的文档结构\n",
    "</p>"
   ]
  },
  {
   "cell_type": "markdown",
   "metadata": {},
   "source": [
    "<p style=\"font-family: Arial; font-size:1.5em;color:purple; font-style:bold\">\n",
    "标题\n",
    "</p>\n",
    "- html\n",
    "  - body\n",
    "    - div\n",
    "      - form\n",
    "        - div\n",
    "          - div\n",
    "            - h2"
   ]
  },
  {
   "cell_type": "markdown",
   "metadata": {},
   "source": [
    "<p style=\"font-family: Arial; font-size:1.5em;color:purple; font-style:bold\">\n",
    "内容\n",
    "</p>\n",
    "- html\n",
    "  - body\n",
    "    - div\n",
    "      - form\n",
    "        - div\n",
    "          - div\n",
    "            - div\n",
    "              - div"
   ]
  },
  {
   "cell_type": "markdown",
   "metadata": {},
   "source": [
    "<p style=\"font-family: Arial; font-size:1.5em;color:purple; font-style:bold\">\n",
    "尝试获取标题\n",
    "</p>"
   ]
  },
  {
   "cell_type": "code",
   "execution_count": null,
   "metadata": {},
   "outputs": [],
   "source": [
    "first_title = first_soup.find('h2', class_='title_wz')\n",
    "first_title_str = str(first_title.string).strip()\n",
    "first_title_str"
   ]
  },
  {
   "cell_type": "markdown",
   "metadata": {},
   "source": [
    "<p style=\"font-family: Arial; font-size:1.5em;color:purple; font-style:bold\">\n",
    "尝试获取内容\n",
    "</p>"
   ]
  },
  {
   "cell_type": "code",
   "execution_count": null,
   "metadata": {
    "collapsed": true
   },
   "outputs": [],
   "source": [
    "first_content = first_soup.find('div', id='vsb_content_4')\n",
    "p_list = first_content.contents"
   ]
  },
  {
   "cell_type": "markdown",
   "metadata": {},
   "source": [
    "<p style=\"font-family: Arial; font-size:1.5em;color:purple; font-style:bold\">\n",
    "第一段内容\n",
    "</p>"
   ]
  },
  {
   "cell_type": "code",
   "execution_count": null,
   "metadata": {},
   "outputs": [],
   "source": [
    "p_list[0].string"
   ]
  },
  {
   "cell_type": "markdown",
   "metadata": {},
   "source": [
    "<p style=\"font-family: Arial; font-size:1.5em;color:purple; font-style:bold\">\n",
    "将所有内容段落连接起来\n",
    "</p>"
   ]
  },
  {
   "cell_type": "code",
   "execution_count": null,
   "metadata": {},
   "outputs": [],
   "source": [
    "ls = []\n",
    "for p in p_list:\n",
    "    if p.string:\n",
    "        s = str(p.string).strip()\n",
    "    else:\n",
    "        s = None\n",
    "    if s:\n",
    "        ls.append(s)\n",
    "first_content_str = ' '.join(ls)\n",
    "first_content_str"
   ]
  },
  {
   "cell_type": "markdown",
   "metadata": {},
   "source": [
    "<p style=\"font-family: Arial; font-size:1.5em;color:purple; font-style:bold\">\n",
    "获取一篇文章定义为一个函数\n",
    "</p>\n",
    "\n",
    "将获取一篇文章的标题和内容的代码封装为一个函数，便于后面作为一个整体使用"
   ]
  },
  {
   "cell_type": "code",
   "execution_count": null,
   "metadata": {
    "collapsed": true
   },
   "outputs": [],
   "source": [
    "def get_article(url):\n",
    "    response = requests.get(url)\n",
    "    if response.status_code != 200:\n",
    "        return ''\n",
    "    response.encoding = 'utf-8'\n",
    "    soup = bs4.BeautifulSoup(response.text, 'lxml')\n",
    "    title = soup.find('h2', class_='title_wz')\n",
    "    title_str = str(title.string).strip()\n",
    "    content = soup.find('div', id='vsb_content_4')\n",
    "    p_list = content.contents\n",
    "    ls = []\n",
    "    for p in p_list:\n",
    "        if p.string:\n",
    "            s = str(p.string).strip()\n",
    "        else:\n",
    "            s = None\n",
    "        if s:\n",
    "            ls.append(s)\n",
    "    content_str = ' '.join(ls)\n",
    "    return title_str + ' ' + content_str"
   ]
  },
  {
   "cell_type": "markdown",
   "metadata": {},
   "source": [
    "<p style=\"font-family: Arial; font-size:1.5em;color:purple; font-style:bold\">\n",
    "测试一下get_article函数\n",
    "</p>"
   ]
  },
  {
   "cell_type": "code",
   "execution_count": null,
   "metadata": {},
   "outputs": [],
   "source": [
    "get_article(first_url)"
   ]
  },
  {
   "cell_type": "markdown",
   "metadata": {},
   "source": [
    "<p style=\"font-family: Arial; font-size:1.5em;color:purple; font-style:bold\">\n",
    "处理一个文章列表页面，定义为函数\n",
    "</p>\n",
    "\n",
    "将获取一个列表页的所有文章的代码封装为函数，便于后面作为整体使用。"
   ]
  },
  {
   "cell_type": "code",
   "execution_count": null,
   "metadata": {
    "collapsed": true
   },
   "outputs": [],
   "source": [
    "def get_soup(response):\n",
    "    if response.status_code != 200:\n",
    "        return None\n",
    "    soup = bs4.BeautifulSoup(response.text, 'lxml')\n",
    "    soup.encoding = 'utf-8'\n",
    "    return soup\n",
    "\n",
    "def get_list_page(soup):\n",
    "    article_list = []\n",
    "    fylb_tag = soup.find(\"ul\", class_=\"fylb\")\n",
    "    a_list = fylb_tag.find_all('a')\n",
    "    for a in a_list:\n",
    "        article_url = urljoin(response.url, a['href'])\n",
    "        print(article_url)    # 用于调试\n",
    "        article = get_article(article_url)\n",
    "        article_list.append(article)\n",
    "    return article_list"
   ]
  },
  {
   "cell_type": "markdown",
   "metadata": {},
   "source": [
    "<p style=\"font-family: Arial; font-size:1.5em;color:purple; font-style:bold\">\n",
    "测试一下get_list_page函数\n",
    "</p>\n",
    "\n",
    "获取学校要闻第一页列表的所有文章标题和内容。"
   ]
  },
  {
   "cell_type": "code",
   "execution_count": null,
   "metadata": {
    "collapsed": true
   },
   "outputs": [],
   "source": [
    "response = requests.get('http://www.sqnu.edu.cn/index/xxyw.htm')\n",
    "soup = get_soup(response)"
   ]
  },
  {
   "cell_type": "code",
   "execution_count": null,
   "metadata": {},
   "outputs": [],
   "source": [
    "first_page = get_list_page(soup)"
   ]
  },
  {
   "cell_type": "markdown",
   "metadata": {},
   "source": [
    "<p style=\"font-family: Arial; font-size:1.5em;color:purple; font-style:bold\">\n",
    "除虫（debug）是写程序过程的一部分\n",
    "</p>\n",
    "\n",
    "让我们看一下出了什么问题。"
   ]
  },
  {
   "cell_type": "markdown",
   "metadata": {},
   "source": [
    "<p style=\"font-family: Arial; font-size:1.5em;color:purple; font-style:bold\">\n",
    "检查出错页面的文档结构\n",
    "</p>\n",
    "\n",
    "原来这篇文章的相关标签id为vsb_content，而不是vsb_content_4。"
   ]
  },
  {
   "cell_type": "markdown",
   "metadata": {},
   "source": [
    "<p style=\"font-family: Arial; font-size:1.5em;color:purple; font-style:bold\">\n",
    "修改get_article函数\n",
    "</p>"
   ]
  },
  {
   "cell_type": "code",
   "execution_count": null,
   "metadata": {
    "collapsed": true
   },
   "outputs": [],
   "source": [
    "def get_article(url):\n",
    "    response = requests.get(url)\n",
    "    if response.status_code != 200:\n",
    "        return ''\n",
    "    response.encoding = 'utf-8'\n",
    "    soup = bs4.BeautifulSoup(response.text, 'lxml')\n",
    "    title = soup.find('h2', class_='title_wz')\n",
    "    title_str = str(title.string).strip()\n",
    "    content = soup.find('div', id='vsb_content_4')\n",
    "    if not content:\n",
    "        content = soup.find('div', id='vsb_content')\n",
    "    p_list = content.contents\n",
    "    ls = []\n",
    "    for p in p_list:\n",
    "        if p.string:\n",
    "            s = str(p.string).strip()\n",
    "        else:\n",
    "            s = None\n",
    "        if s:\n",
    "            ls.append(s)\n",
    "    content_str = ' '.join(ls)\n",
    "    return title_str + ' ' + content_str"
   ]
  },
  {
   "cell_type": "markdown",
   "metadata": {},
   "source": [
    "<p style=\"font-family: Arial; font-size:1.5em;color:purple; font-style:bold\">\n",
    "重新测试get_list_page函数\n",
    "</p>"
   ]
  },
  {
   "cell_type": "code",
   "execution_count": null,
   "metadata": {},
   "outputs": [],
   "source": [
    "first_page = get_list_page(soup)"
   ]
  },
  {
   "cell_type": "markdown",
   "metadata": {},
   "source": [
    "<p style=\"font-family: Arial; font-size:1.5em;color:purple; font-style:bold\">\n",
    "获取下一列表页的地址\n",
    "</p>"
   ]
  },
  {
   "cell_type": "code",
   "execution_count": null,
   "metadata": {
    "collapsed": true
   },
   "outputs": [],
   "source": [
    "def get_next_page_url(response, soup):\n",
    "    a = soup.find('a', class_='Next')\n",
    "    return urljoin(response.url, a['href'])"
   ]
  },
  {
   "cell_type": "code",
   "execution_count": null,
   "metadata": {},
   "outputs": [],
   "source": [
    "get_next_page_url(response, soup)"
   ]
  },
  {
   "cell_type": "markdown",
   "metadata": {},
   "source": [
    "<p style=\"font-family: Arial; font-size:1.5em;color:purple; font-style:bold\">\n",
    "获取前n页的文章信息\n",
    "</p>"
   ]
  },
  {
   "cell_type": "code",
   "execution_count": null,
   "metadata": {
    "collapsed": true
   },
   "outputs": [],
   "source": [
    "def get_articles(start_url, n):\n",
    "    articles = []\n",
    "    list_url = start_url\n",
    "    for i in range(n):\n",
    "        response = requests.get(list_url)\n",
    "        soup = get_soup(response)\n",
    "        articles.extend(get_list_page(soup))\n",
    "        list_url = get_next_page_url(response, soup)\n",
    "    return articles"
   ]
  },
  {
   "cell_type": "code",
   "execution_count": null,
   "metadata": {},
   "outputs": [],
   "source": [
    "article_list = get_articles('http://www.sqnu.edu.cn/index/xxyw.htm', 10)"
   ]
  },
  {
   "cell_type": "markdown",
   "metadata": {},
   "source": [
    "<p style=\"font-family: Arial; font-size:1.5em;color:purple; font-style:bold\">\n",
    "将所有文章拼接起来，并分割为词条\n",
    "</p>"
   ]
  },
  {
   "cell_type": "code",
   "execution_count": null,
   "metadata": {
    "collapsed": true
   },
   "outputs": [],
   "source": [
    "import jieba"
   ]
  },
  {
   "cell_type": "code",
   "execution_count": null,
   "metadata": {},
   "outputs": [],
   "source": [
    "text = ' '.join(article_list)\n",
    " \n",
    "word_list = []\n",
    "for word in jieba.cut(text):\n",
    "    w = word.strip()\n",
    "    if w != 'None':\n",
    "        word_list.append(w) \n",
    "len(word_list)"
   ]
  },
  {
   "cell_type": "markdown",
   "metadata": {},
   "source": [
    "<p style=\"font-family: Arial; font-size:1.5em;color:purple; font-style:bold\">\n",
    "绘制词云\n",
    "</p>"
   ]
  },
  {
   "cell_type": "code",
   "execution_count": null,
   "metadata": {},
   "outputs": [],
   "source": [
    "import matplotlib.pyplot as plt\n",
    "from wordcloud import WordCloud"
   ]
  },
  {
   "cell_type": "code",
   "execution_count": null,
   "metadata": {},
   "outputs": [],
   "source": [
    "words = ' '.join(word_list)\n",
    "wc = WordCloud(font_path='yahei.ttf').generate(words)\n",
    "plt.imshow(wc)\n",
    "plt.axis(\"off\")\n",
    "plt.show()"
   ]
  }
 ],
 "metadata": {
  "kernelspec": {
   "display_name": "Python 3",
   "language": "python",
   "name": "python3"
  },
  "language_info": {
   "codemirror_mode": {
    "name": "ipython",
    "version": 3
   },
   "file_extension": ".py",
   "mimetype": "text/x-python",
   "name": "python",
   "nbconvert_exporter": "python",
   "pygments_lexer": "ipython3",
   "version": "3.6.3"
  }
 },
 "nbformat": 4,
 "nbformat_minor": 2
}
