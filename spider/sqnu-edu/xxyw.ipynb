{
 "cells": [
  {
   "cell_type": "markdown",
   "metadata": {},
   "source": [
    "<p style=\"font-family: Arial; font-size:2.5em;color:purple; font-style:bold\"><br/>\n",
    "商丘师范学院网络爬虫\n",
    "</p>\n",
    "\n",
    "----------------------------"
   ]
  },
  {
   "cell_type": "markdown",
   "metadata": {},
   "source": [
    "<p style=\"font-family: Arial; font-size:1.5em;color:purple; font-style:bold\">\n",
    "冰山\n",
    "</p>\n",
    "\n",
    "- 最终看到的结果（程序）只是浮出海面上的部分\n",
    "- 开发探索的过程是海面之下的部分\n",
    "- 今天我们将看到冰山的全貌"
   ]
  },
  {
   "cell_type": "markdown",
   "metadata": {},
   "source": [
    "<p style=\"font-family: Arial; font-size:1.5em;color:purple; font-style:bold\">\n",
    "鸟瞰整个森林\n",
    "</p>\n",
    "\n",
    "- 互联网（Internet）\n",
    "  - TCP/IP协议\n",
    "- 万维网（World Wide Web）\n",
    "  - 超文本传输协议（HTTP）\n",
    "  - 超文本标记语言（HTML）\n",
    "  - 统一资源定位符（URL）"
   ]
  },
  {
   "cell_type": "markdown",
   "metadata": {},
   "source": [
    "<p style=\"font-family: Arial; font-size:1.5em;color:purple; font-style:bold\">\n",
    "访问一个网页时发生了什么？\n",
    "</p>\n",
    "\n",
    "[商丘师范学院学校要闻](http://www.sqnu.edu.cn/index/xxyw.htm)"
   ]
  },
  {
   "cell_type": "markdown",
   "metadata": {},
   "source": [
    "<p style=\"font-family: Arial; font-size:1.5em;color:purple; font-style:bold\">\n",
    "浏览器开发者工具\n",
    "</p>\n",
    "\n",
    "- Chrome\n",
    "- Firefox"
   ]
  },
  {
   "cell_type": "markdown",
   "metadata": {},
   "source": [
    "<p style=\"font-family: Arial; font-size:1.5em;color:purple; font-style:bold\">\n",
    "Python和网络爬虫\n",
    "</p>\n",
    "\n",
    "- [Requests](http://python-requests.org)\n",
    "  - 使用HTTP协议发送网络请求，接收响应\n",
    "\n",
    "\n",
    "- [BeautifulSoup](http://www.crummy.com/software/BeautifulSoup/bs4/)\n",
    "  - 从HTML文档中抽取数据"
   ]
  },
  {
   "cell_type": "markdown",
   "metadata": {},
   "source": [
    "<p style=\"font-family: Arial; font-size:1.5em;color:purple; font-style:bold\">\n",
    "导入**Requests**和**BeautifulSoup**\n",
    "</p>"
   ]
  },
  {
   "cell_type": "code",
   "execution_count": null,
   "metadata": {
    "collapsed": true
   },
   "outputs": [],
   "source": [
    "import requests\n",
    "import bs4"
   ]
  },
  {
   "cell_type": "markdown",
   "metadata": {},
   "source": [
    "<p style=\"font-family: Arial; font-size:1.5em;color:purple; font-style:bold\">\n",
    "获取学校要闻列表页\n",
    "</p>"
   ]
  },
  {
   "cell_type": "code",
   "execution_count": null,
   "metadata": {
    "collapsed": true
   },
   "outputs": [],
   "source": [
    "response = requests.get('http://www.sqnu.edu.cn/index/xxyw.htm')"
   ]
  },
  {
   "cell_type": "markdown",
   "metadata": {},
   "source": [
    "<p style=\"font-family: Arial; font-size:1.5em;color:purple; font-style:bold\">\n",
    "查看响应状态\n",
    "</p>\n",
    "\n",
    "HTTP状态码"
   ]
  },
  {
   "cell_type": "code",
   "execution_count": null,
   "metadata": {},
   "outputs": [],
   "source": [
    "response.status_code"
   ]
  },
  {
   "cell_type": "markdown",
   "metadata": {},
   "source": [
    "<p style=\"font-family: Arial; font-size:1.5em;color:purple; font-style:bold\">\n",
    "设置响应内容文本的字符编码\n",
    "</p>"
   ]
  },
  {
   "cell_type": "code",
   "execution_count": null,
   "metadata": {
    "collapsed": true
   },
   "outputs": [],
   "source": [
    "response.encoding = 'utf-8'"
   ]
  },
  {
   "cell_type": "markdown",
   "metadata": {},
   "source": [
    "<p style=\"font-family: Arial; font-size:1.5em;color:purple; font-style:bold\">\n",
    "查看响应的内容\n",
    "</p>\n",
    "\n",
    "- 一共有多少个字符？\n",
    "- 打印前100个字符"
   ]
  },
  {
   "cell_type": "code",
   "execution_count": null,
   "metadata": {},
   "outputs": [],
   "source": [
    "len(response.text)"
   ]
  },
  {
   "cell_type": "code",
   "execution_count": null,
   "metadata": {},
   "outputs": [],
   "source": [
    "print(response.text[0:100])"
   ]
  },
  {
   "cell_type": "markdown",
   "metadata": {
    "slideshow": {
     "slide_type": "-"
    }
   },
   "source": [
    "<p style=\"font-family: Arial; font-size:1.5em;color:purple; font-style:bold\">\n",
    "HTML文档是一棵由标签构成的树\n",
    "</p>\n",
    "\n",
    "- 通过浏览器的开发者工具查看\n",
    "- 使用 **Beautiful Soup** 从中提取数据"
   ]
  },
  {
   "cell_type": "markdown",
   "metadata": {},
   "source": [
    "<p style=\"font-family: Arial; font-size:1.5em;color:purple; font-style:bold\">\n",
    "创建BeautifulSoup对象\n",
    "</p>\n",
    "\n",
    "用来表示整个HTML文档"
   ]
  },
  {
   "cell_type": "code",
   "execution_count": null,
   "metadata": {
    "collapsed": true
   },
   "outputs": [],
   "source": [
    "soup = bs4.BeautifulSoup(response.text, 'lxml')"
   ]
  },
  {
   "cell_type": "markdown",
   "metadata": {},
   "source": [
    "<p style=\"font-family: Arial; font-size:1.5em;color:purple; font-style:bold\">\n",
    "学校要闻页面的文档结构\n",
    "</p>\n",
    "\n",
    "- html\n",
    "  - body\n",
    "    - div\n",
    "      - div\n",
    "        - div\n",
    "          - ul\n",
    "            - li\n",
    "              - a"
   ]
  },
  {
   "cell_type": "markdown",
   "metadata": {},
   "source": [
    "<p style=\"font-family: Arial; font-size:1.5em;color:purple; font-style:bold\">\n",
    "提取翻页列表标签\n",
    "</p>"
   ]
  },
  {
   "cell_type": "code",
   "execution_count": 23,
   "metadata": {},
   "outputs": [
    {
     "data": {
      "text/plain": [
       "bs4.element.Tag"
      ]
     },
     "execution_count": 23,
     "metadata": {},
     "output_type": "execute_result"
    }
   ],
   "source": [
    "fylb_tag = soup.find(\"ul\", class_=\"fylb\")\n",
    "type(fylb_tag)"
   ]
  },
  {
   "cell_type": "markdown",
   "metadata": {},
   "source": [
    "<p style=\"font-family: Arial; font-size:1.5em;color:purple; font-style:bold\">\n",
    "提取文章的超链接的列表\n",
    "</p>"
   ]
  },
  {
   "cell_type": "code",
   "execution_count": 24,
   "metadata": {
    "collapsed": true
   },
   "outputs": [],
   "source": [
    "a_list = fylb_tag.find_all('a')"
   ]
  },
  {
   "cell_type": "markdown",
   "metadata": {},
   "source": [
    "<p style=\"font-family: Arial; font-size:1.5em;color:purple; font-style:bold\">\n",
    "查看第一篇文章的相对URL\n",
    "</p>"
   ]
  },
  {
   "cell_type": "code",
   "execution_count": 25,
   "metadata": {},
   "outputs": [
    {
     "data": {
      "text/plain": [
       "'../info/1010/9424.htm'"
      ]
     },
     "execution_count": 25,
     "metadata": {},
     "output_type": "execute_result"
    }
   ],
   "source": [
    "a_list[0]['href']"
   ]
  },
  {
   "cell_type": "markdown",
   "metadata": {},
   "source": [
    "<p style=\"font-family: Arial; font-size:1.5em;color:purple; font-style:bold\">\n",
    "组装第一篇文章的完整URL\n",
    "</p>"
   ]
  },
  {
   "cell_type": "code",
   "execution_count": 28,
   "metadata": {},
   "outputs": [
    {
     "data": {
      "text/plain": [
       "'http://www.sqnu.edu.cn/info/1010/9424.htm'"
      ]
     },
     "execution_count": 28,
     "metadata": {},
     "output_type": "execute_result"
    }
   ],
   "source": [
    "from urllib.parse import urljoin\n",
    "first_url = urljoin(response.url, a_list[0]['href'])\n",
    "first_url"
   ]
  },
  {
   "cell_type": "markdown",
   "metadata": {},
   "source": [
    "<p style=\"font-family: Arial; font-size:1.5em;color:purple; font-style:bold\">\n",
    "发送请求，获取第一篇文章\n",
    "</p>"
   ]
  },
  {
   "cell_type": "code",
   "execution_count": 48,
   "metadata": {},
   "outputs": [
    {
     "data": {
      "text/plain": [
       "200"
      ]
     },
     "execution_count": 48,
     "metadata": {},
     "output_type": "execute_result"
    }
   ],
   "source": [
    "first_response = requests.get(first_url)\n",
    "first_response.status_code"
   ]
  },
  {
   "cell_type": "code",
   "execution_count": 49,
   "metadata": {
    "collapsed": true
   },
   "outputs": [],
   "source": [
    "first_response.encoding = 'utf-8'\n",
    "first_soup = bs4.BeautifulSoup(first_response.text, 'lxml')"
   ]
  },
  {
   "cell_type": "markdown",
   "metadata": {},
   "source": [
    "<p style=\"font-family: Arial; font-size:1.5em;color:purple; font-style:bold\">\n",
    "分析具体文章页面的文档结构\n",
    "</p>"
   ]
  },
  {
   "cell_type": "markdown",
   "metadata": {},
   "source": [
    "<p style=\"font-family: Arial; font-size:1.5em;color:purple; font-style:bold\">\n",
    "标题\n",
    "</p>\n",
    "- html\n",
    "  - body\n",
    "    - div\n",
    "      - form\n",
    "        - div\n",
    "          - div\n",
    "            - h2"
   ]
  },
  {
   "cell_type": "markdown",
   "metadata": {},
   "source": [
    "<p style=\"font-family: Arial; font-size:1.5em;color:purple; font-style:bold\">\n",
    "内容\n",
    "</p>\n",
    "- html\n",
    "  - body\n",
    "    - div\n",
    "      - form\n",
    "        - div\n",
    "          - div\n",
    "            - div\n",
    "              - div"
   ]
  },
  {
   "cell_type": "markdown",
   "metadata": {},
   "source": [
    "<p style=\"font-family: Arial; font-size:1.5em;color:purple; font-style:bold\">\n",
    "尝试获取标题\n",
    "</p>"
   ]
  },
  {
   "cell_type": "code",
   "execution_count": 57,
   "metadata": {},
   "outputs": [
    {
     "data": {
      "text/plain": [
       "'我校获批河南省硕士立项建设单位'"
      ]
     },
     "execution_count": 57,
     "metadata": {},
     "output_type": "execute_result"
    }
   ],
   "source": [
    "first_title = first_soup.find('h2', class_='title_wz')\n",
    "first_title_str = str(first_title.string).strip()\n",
    "first_title_str"
   ]
  },
  {
   "cell_type": "markdown",
   "metadata": {},
   "source": [
    "<p style=\"font-family: Arial; font-size:1.5em;color:purple; font-style:bold\">\n",
    "尝试获取内容\n",
    "</p>"
   ]
  },
  {
   "cell_type": "code",
   "execution_count": 58,
   "metadata": {
    "collapsed": true
   },
   "outputs": [],
   "source": [
    "first_content = first_soup.find('div', id='vsb_content_4')\n",
    "p_list = first_content.contents"
   ]
  },
  {
   "cell_type": "markdown",
   "metadata": {},
   "source": [
    "<p style=\"font-family: Arial; font-size:1.5em;color:purple; font-style:bold\">\n",
    "第一段内容\n",
    "</p>"
   ]
  },
  {
   "cell_type": "code",
   "execution_count": 60,
   "metadata": {},
   "outputs": [
    {
     "data": {
      "text/plain": [
       "'近日，由河南省教育厅、河南省发展和改革委员会、河南省财政厅联合下发的《关于印发河南省新增博士硕士学位授予单位立项建设规划的通知》（教研[2018]157号）,商丘师范学院获批硕士学位授予立项建设单位。'"
      ]
     },
     "execution_count": 60,
     "metadata": {},
     "output_type": "execute_result"
    }
   ],
   "source": [
    "p_list[0].string"
   ]
  },
  {
   "cell_type": "markdown",
   "metadata": {},
   "source": [
    "<p style=\"font-family: Arial; font-size:1.5em;color:purple; font-style:bold\">\n",
    "将所有内容段落连接起来\n",
    "</p>"
   ]
  },
  {
   "cell_type": "code",
   "execution_count": 66,
   "metadata": {},
   "outputs": [
    {
     "data": {
      "text/plain": [
       "'近日，由河南省教育厅、河南省发展和改革委员会、河南省财政厅联合下发的《关于印发河南省新增博士硕士学位授予单位立项建设规划的通知》（教研[2018]157号）,商丘师范学院获批硕士学位授予立项建设单位。 本次获批硕士学位立项建设单位是省学位委员会根据《国务院学位委员会关于印发<博士硕士学位授权审核办法>的通知》（学位〔2017〕9号）和《国务院学位委员会关于开展2017年博士硕士学位授权审核工作的通知》（学位〔2017〕12号）要求，结合国家和河南省经济社会以及河南省学位与研究生教育发展需求，经学校申报、核查公示、专家评议、省学位委员会审议表决等环节最终确定。全省本次共有11所高校获批硕士学位立项建设单位。 获批此次硕士学位立项建设单位，是学校发展的重大机遇，对提升我校的核心竞争力，加快我校应用型大学建设的步伐具有非常重大的意义。今后，学校将凝心聚力，按照国务院学位委员会新增硕士单位基本条件要求，研究制订立项建设规划方案，不断优化学科结构，推进我校硕士专业学位授权单位建设，实现办学层次的重大突破。 （科研处供稿）'"
      ]
     },
     "execution_count": 66,
     "metadata": {},
     "output_type": "execute_result"
    }
   ],
   "source": [
    "ls = []\n",
    "for p in p_list:\n",
    "    s = str(p.string).strip()\n",
    "    if s != '':\n",
    "        ls.append(s)\n",
    "first_content_str = ' '.join(ls)\n",
    "first_content_str"
   ]
  },
  {
   "cell_type": "markdown",
   "metadata": {},
   "source": [
    "<p style=\"font-family: Arial; font-size:1.5em;color:purple; font-style:bold\">\n",
    "获取一篇文章定义为一个函数\n",
    "</p>\n",
    "\n",
    "将获取一篇文章的标题和内容的代码封装为一个函数，便于后面作为一个整体使用"
   ]
  },
  {
   "cell_type": "code",
   "execution_count": 94,
   "metadata": {},
   "outputs": [],
   "source": [
    "def get_article(url):\n",
    "    response = requests.get(url)\n",
    "    if response.status_code != 200:\n",
    "        return ''\n",
    "    response.encoding = 'utf-8'\n",
    "    soup = bs4.BeautifulSoup(response.text, 'lxml')\n",
    "    title = soup.find('h2', class_='title_wz')\n",
    "    title_str = str(title.string).strip()\n",
    "    content = soup.find('div', id='vsb_content_4')\n",
    "    p_list = content.contents\n",
    "    ls = []\n",
    "    for p in p_list:\n",
    "        s = str(p.string).strip()\n",
    "        if s != '':\n",
    "            ls.append(s)\n",
    "    content_str = ' '.join(ls)\n",
    "    return title_str + ' ' + content_str"
   ]
  },
  {
   "cell_type": "markdown",
   "metadata": {},
   "source": [
    "<p style=\"font-family: Arial; font-size:1.5em;color:purple; font-style:bold\">\n",
    "测试一下get_article函数\n",
    "</p>"
   ]
  },
  {
   "cell_type": "code",
   "execution_count": 70,
   "metadata": {},
   "outputs": [
    {
     "data": {
      "text/plain": [
       "'我校获批河南省硕士立项建设单位 近日，由河南省教育厅、河南省发展和改革委员会、河南省财政厅联合下发的《关于印发河南省新增博士硕士学位授予单位立项建设规划的通知》（教研[2018]157号）,商丘师范学院获批硕士学位授予立项建设单位。 本次获批硕士学位立项建设单位是省学位委员会根据《国务院学位委员会关于印发<博士硕士学位授权审核办法>的通知》（学位〔2017〕9号）和《国务院学位委员会关于开展2017年博士硕士学位授权审核工作的通知》（学位〔2017〕12号）要求，结合国家和河南省经济社会以及河南省学位与研究生教育发展需求，经学校申报、核查公示、专家评议、省学位委员会审议表决等环节最终确定。全省本次共有11所高校获批硕士学位立项建设单位。 获批此次硕士学位立项建设单位，是学校发展的重大机遇，对提升我校的核心竞争力，加快我校应用型大学建设的步伐具有非常重大的意义。今后，学校将凝心聚力，按照国务院学位委员会新增硕士单位基本条件要求，研究制订立项建设规划方案，不断优化学科结构，推进我校硕士专业学位授权单位建设，实现办学层次的重大突破。 （科研处供稿）'"
      ]
     },
     "execution_count": 70,
     "metadata": {},
     "output_type": "execute_result"
    }
   ],
   "source": [
    "get_article(first_url)"
   ]
  },
  {
   "cell_type": "markdown",
   "metadata": {},
   "source": [
    "<p style=\"font-family: Arial; font-size:1.5em;color:purple; font-style:bold\">\n",
    "处理一个文章列表页面，定义为函数\n",
    "</p>\n",
    "\n",
    "将获取一个列表页的所有文章的代码封装为函数，便于后面作为整体使用。"
   ]
  },
  {
   "cell_type": "code",
   "execution_count": 104,
   "metadata": {
    "collapsed": true
   },
   "outputs": [],
   "source": [
    "def get_soup(response):\n",
    "    if response.status_code != 200:\n",
    "        return None\n",
    "    soup = bs4.BeautifulSoup(response.text, 'lxml')\n",
    "    soup.encoding = 'utf-8'\n",
    "    return soup\n",
    "\n",
    "def get_list_page(soup):\n",
    "    article_list = []\n",
    "    fylb_tag = soup.find(\"ul\", class_=\"fylb\")\n",
    "    a_list = fylb_tag.find_all('a')\n",
    "    for a in a_list:\n",
    "        article_url = urljoin(response.url, a['href'])\n",
    "        print(article_url)    # 用于调试\n",
    "        article = get_article(article_url)\n",
    "        article_list.append(article)\n",
    "    return article_list"
   ]
  },
  {
   "cell_type": "markdown",
   "metadata": {},
   "source": [
    "<p style=\"font-family: Arial; font-size:1.5em;color:purple; font-style:bold\">\n",
    "测试一下get_list_page函数\n",
    "</p>\n",
    "\n",
    "获取学校要闻第一页列表的所有文章标题和内容。"
   ]
  },
  {
   "cell_type": "code",
   "execution_count": 105,
   "metadata": {
    "collapsed": true
   },
   "outputs": [],
   "source": [
    "response = requests.get('http://www.sqnu.edu.cn/index/xxyw.htm')\n",
    "soup = get_soup(response)"
   ]
  },
  {
   "cell_type": "code",
   "execution_count": 95,
   "metadata": {},
   "outputs": [
    {
     "name": "stdout",
     "output_type": "stream",
     "text": [
      "http://www.sqnu.edu.cn/info/1010/9436.htm\n",
      "http://www.sqnu.edu.cn/info/1010/9431.htm\n",
      "http://www.sqnu.edu.cn/info/1010/9430.htm\n"
     ]
    },
    {
     "ename": "AttributeError",
     "evalue": "'NoneType' object has no attribute 'contents'",
     "output_type": "error",
     "traceback": [
      "\u001b[0;31m---------------------------------------------------------------------------\u001b[0m",
      "\u001b[0;31mAttributeError\u001b[0m                            Traceback (most recent call last)",
      "\u001b[0;32m<ipython-input-95-931e77154f3a>\u001b[0m in \u001b[0;36m<module>\u001b[0;34m()\u001b[0m\n\u001b[0;32m----> 1\u001b[0;31m \u001b[0mfirst_page\u001b[0m \u001b[0;34m=\u001b[0m \u001b[0mget_list_page\u001b[0m\u001b[0;34m(\u001b[0m\u001b[0msoup\u001b[0m\u001b[0;34m)\u001b[0m\u001b[0;34m\u001b[0m\u001b[0m\n\u001b[0m",
      "\u001b[0;32m<ipython-input-91-005a3d1e5a80>\u001b[0m in \u001b[0;36mget_list_page\u001b[0;34m(soup)\u001b[0m\n\u001b[1;32m     12\u001b[0m         \u001b[0marticle_url\u001b[0m \u001b[0;34m=\u001b[0m \u001b[0murljoin\u001b[0m\u001b[0;34m(\u001b[0m\u001b[0mresponse\u001b[0m\u001b[0;34m.\u001b[0m\u001b[0murl\u001b[0m\u001b[0;34m,\u001b[0m \u001b[0ma\u001b[0m\u001b[0;34m[\u001b[0m\u001b[0;34m'href'\u001b[0m\u001b[0;34m]\u001b[0m\u001b[0;34m)\u001b[0m\u001b[0;34m\u001b[0m\u001b[0m\n\u001b[1;32m     13\u001b[0m         \u001b[0mprint\u001b[0m\u001b[0;34m(\u001b[0m\u001b[0marticle_url\u001b[0m\u001b[0;34m)\u001b[0m    \u001b[0;31m# 用于调试\u001b[0m\u001b[0;34m\u001b[0m\u001b[0m\n\u001b[0;32m---> 14\u001b[0;31m         \u001b[0marticle\u001b[0m \u001b[0;34m=\u001b[0m \u001b[0mget_article\u001b[0m\u001b[0;34m(\u001b[0m\u001b[0marticle_url\u001b[0m\u001b[0;34m)\u001b[0m\u001b[0;34m\u001b[0m\u001b[0m\n\u001b[0m\u001b[1;32m     15\u001b[0m         \u001b[0marticle_list\u001b[0m\u001b[0;34m.\u001b[0m\u001b[0mappend\u001b[0m\u001b[0;34m(\u001b[0m\u001b[0marticle\u001b[0m\u001b[0;34m)\u001b[0m\u001b[0;34m\u001b[0m\u001b[0m\n\u001b[1;32m     16\u001b[0m     \u001b[0;32mreturn\u001b[0m \u001b[0marticle_list\u001b[0m\u001b[0;34m\u001b[0m\u001b[0m\n",
      "\u001b[0;32m<ipython-input-94-2f6f28ca57f5>\u001b[0m in \u001b[0;36mget_article\u001b[0;34m(url)\u001b[0m\n\u001b[1;32m      8\u001b[0m     \u001b[0mtitle_str\u001b[0m \u001b[0;34m=\u001b[0m \u001b[0mstr\u001b[0m\u001b[0;34m(\u001b[0m\u001b[0mtitle\u001b[0m\u001b[0;34m.\u001b[0m\u001b[0mstring\u001b[0m\u001b[0;34m)\u001b[0m\u001b[0;34m.\u001b[0m\u001b[0mstrip\u001b[0m\u001b[0;34m(\u001b[0m\u001b[0;34m)\u001b[0m\u001b[0;34m\u001b[0m\u001b[0m\n\u001b[1;32m      9\u001b[0m     \u001b[0mcontent\u001b[0m \u001b[0;34m=\u001b[0m \u001b[0msoup\u001b[0m\u001b[0;34m.\u001b[0m\u001b[0mfind\u001b[0m\u001b[0;34m(\u001b[0m\u001b[0;34m'div'\u001b[0m\u001b[0;34m,\u001b[0m \u001b[0mid\u001b[0m\u001b[0;34m=\u001b[0m\u001b[0;34m'vsb_content_4'\u001b[0m\u001b[0;34m)\u001b[0m\u001b[0;34m\u001b[0m\u001b[0m\n\u001b[0;32m---> 10\u001b[0;31m     \u001b[0mp_list\u001b[0m \u001b[0;34m=\u001b[0m \u001b[0mcontent\u001b[0m\u001b[0;34m.\u001b[0m\u001b[0mcontents\u001b[0m\u001b[0;34m\u001b[0m\u001b[0m\n\u001b[0m\u001b[1;32m     11\u001b[0m     \u001b[0mls\u001b[0m \u001b[0;34m=\u001b[0m \u001b[0;34m[\u001b[0m\u001b[0;34m]\u001b[0m\u001b[0;34m\u001b[0m\u001b[0m\n\u001b[1;32m     12\u001b[0m     \u001b[0;32mfor\u001b[0m \u001b[0mp\u001b[0m \u001b[0;32min\u001b[0m \u001b[0mp_list\u001b[0m\u001b[0;34m:\u001b[0m\u001b[0;34m\u001b[0m\u001b[0m\n",
      "\u001b[0;31mAttributeError\u001b[0m: 'NoneType' object has no attribute 'contents'"
     ]
    }
   ],
   "source": [
    "first_page = get_list_page(soup)"
   ]
  },
  {
   "cell_type": "markdown",
   "metadata": {},
   "source": [
    "<p style=\"font-family: Arial; font-size:1.5em;color:purple; font-style:bold\">\n",
    "除虫（debug）是写程序过程的一部分\n",
    "</p>\n",
    "\n",
    "让我们看一下出了什么问题。"
   ]
  },
  {
   "cell_type": "markdown",
   "metadata": {},
   "source": [
    "<p style=\"font-family: Arial; font-size:1.5em;color:purple; font-style:bold\">\n",
    "检查出错页面的文档结构\n",
    "</p>\n",
    "\n",
    "原来这篇文章的相关标签id为vsb_content，而不是vsb_content_4。"
   ]
  },
  {
   "cell_type": "markdown",
   "metadata": {},
   "source": [
    "<p style=\"font-family: Arial; font-size:1.5em;color:purple; font-style:bold\">\n",
    "修改get_article函数\n",
    "</p>"
   ]
  },
  {
   "cell_type": "code",
   "execution_count": 96,
   "metadata": {
    "collapsed": true
   },
   "outputs": [],
   "source": [
    "def get_article(url):\n",
    "    response = requests.get(url)\n",
    "    if response.status_code != 200:\n",
    "        return ''\n",
    "    response.encoding = 'utf-8'\n",
    "    soup = bs4.BeautifulSoup(response.text, 'lxml')\n",
    "    title = soup.find('h2', class_='title_wz')\n",
    "    title_str = str(title.string).strip()\n",
    "    content = soup.find('div', id='vsb_content_4')\n",
    "    if not content:\n",
    "        content = soup.find('div', id='vsb_content')\n",
    "    p_list = content.contents\n",
    "    ls = []\n",
    "    for p in p_list:\n",
    "        s = str(p.string).strip()\n",
    "        if s != '':\n",
    "            ls.append(s)\n",
    "    content_str = ' '.join(ls)\n",
    "    return title_str + ' ' + content_str"
   ]
  },
  {
   "cell_type": "markdown",
   "metadata": {},
   "source": [
    "<p style=\"font-family: Arial; font-size:1.5em;color:purple; font-style:bold\">\n",
    "重新测试get_list_page函数\n",
    "</p>"
   ]
  },
  {
   "cell_type": "code",
   "execution_count": 97,
   "metadata": {},
   "outputs": [
    {
     "name": "stdout",
     "output_type": "stream",
     "text": [
      "http://www.sqnu.edu.cn/info/1010/9436.htm\n",
      "http://www.sqnu.edu.cn/info/1010/9431.htm\n",
      "http://www.sqnu.edu.cn/info/1010/9430.htm\n",
      "http://www.sqnu.edu.cn/info/1010/9424.htm\n",
      "http://www.sqnu.edu.cn/info/1010/9418.htm\n",
      "http://www.sqnu.edu.cn/info/1010/9412.htm\n",
      "http://www.sqnu.edu.cn/info/1010/9411.htm\n",
      "http://www.sqnu.edu.cn/info/1010/9427.htm\n",
      "http://www.sqnu.edu.cn/info/1010/9407.htm\n",
      "http://www.sqnu.edu.cn/info/1010/9404.htm\n"
     ]
    }
   ],
   "source": [
    "first_page = get_list_page(soup)"
   ]
  },
  {
   "cell_type": "markdown",
   "metadata": {},
   "source": [
    "<p style=\"font-family: Arial; font-size:1.5em;color:purple; font-style:bold\">\n",
    "获取下一列表页的地址\n",
    "</p>"
   ]
  },
  {
   "cell_type": "code",
   "execution_count": 107,
   "metadata": {},
   "outputs": [],
   "source": [
    "def get_next_page_url(response, soup):\n",
    "    a = soup.find('a', class_='Next')\n",
    "    return urljoin(response.url, a['href'])"
   ]
  },
  {
   "cell_type": "code",
   "execution_count": 108,
   "metadata": {},
   "outputs": [
    {
     "data": {
      "text/plain": [
       "'http://www.sqnu.edu.cn/index/xxyw/192.htm'"
      ]
     },
     "execution_count": 108,
     "metadata": {},
     "output_type": "execute_result"
    }
   ],
   "source": [
    "get_next_page_url(response, soup)"
   ]
  },
  {
   "cell_type": "markdown",
   "metadata": {},
   "source": [
    "<p style=\"font-family: Arial; font-size:1.5em;color:purple; font-style:bold\">\n",
    "获取前n页的文章信息\n",
    "</p>"
   ]
  },
  {
   "cell_type": "code",
   "execution_count": 110,
   "metadata": {
    "collapsed": true
   },
   "outputs": [],
   "source": [
    "def get_articles(start_url, n):\n",
    "    articles = []\n",
    "    list_url = start_url\n",
    "    for i in range(n):\n",
    "        response = requests.get(list_url)\n",
    "        soup = get_soup(response)\n",
    "        articles.extend(get_list_page(soup))\n",
    "        list_url = get_next_page_url(response, soup)\n",
    "    return articles"
   ]
  },
  {
   "cell_type": "code",
   "execution_count": 112,
   "metadata": {},
   "outputs": [
    {
     "name": "stdout",
     "output_type": "stream",
     "text": [
      "http://www.sqnu.edu.cn/info/1010/9436.htm\n",
      "http://www.sqnu.edu.cn/info/1010/9431.htm\n",
      "http://www.sqnu.edu.cn/info/1010/9430.htm\n",
      "http://www.sqnu.edu.cn/info/1010/9424.htm\n",
      "http://www.sqnu.edu.cn/info/1010/9418.htm\n",
      "http://www.sqnu.edu.cn/info/1010/9412.htm\n",
      "http://www.sqnu.edu.cn/info/1010/9411.htm\n",
      "http://www.sqnu.edu.cn/info/1010/9427.htm\n",
      "http://www.sqnu.edu.cn/info/1010/9407.htm\n",
      "http://www.sqnu.edu.cn/info/1010/9404.htm\n",
      "http://www.sqnu.edu.cn/info/1010/9404.htm\n",
      "http://www.sqnu.edu.cn/info/1010/9396.htm\n",
      "http://www.sqnu.edu.cn/info/1010/9393.htm\n",
      "http://www.sqnu.edu.cn/info/1010/9399.htm\n",
      "http://www.sqnu.edu.cn/info/1010/9398.htm\n",
      "http://www.sqnu.edu.cn/info/1010/9378.htm\n",
      "http://www.sqnu.edu.cn/info/1010/9375.htm\n",
      "http://www.sqnu.edu.cn/info/1010/9373.htm\n",
      "http://www.sqnu.edu.cn/info/1010/9372.htm\n",
      "http://www.sqnu.edu.cn/info/1010/9369.htm\n",
      "http://www.sqnu.edu.cn/info/1010/9366.htm\n",
      "http://www.sqnu.edu.cn/info/1010/9365.htm\n",
      "http://www.sqnu.edu.cn/info/1010/9362.htm\n",
      "http://www.sqnu.edu.cn/info/1010/9355.htm\n",
      "http://www.sqnu.edu.cn/info/1010/9348.htm\n",
      "http://www.sqnu.edu.cn/info/1010/9346.htm\n",
      "http://www.sqnu.edu.cn/info/1010/9334.htm\n",
      "http://www.sqnu.edu.cn/info/1010/9321.htm\n",
      "http://www.sqnu.edu.cn/info/1010/9320.htm\n",
      "http://www.sqnu.edu.cn/info/1010/9366.htm\n",
      "http://www.sqnu.edu.cn/info/1010/9365.htm\n",
      "http://www.sqnu.edu.cn/info/1010/9362.htm\n",
      "http://www.sqnu.edu.cn/info/1010/9355.htm\n",
      "http://www.sqnu.edu.cn/info/1010/9348.htm\n",
      "http://www.sqnu.edu.cn/info/1010/9346.htm\n",
      "http://www.sqnu.edu.cn/info/1010/9334.htm\n",
      "http://www.sqnu.edu.cn/info/1010/9321.htm\n",
      "http://www.sqnu.edu.cn/info/1010/9320.htm\n",
      "http://www.sqnu.edu.cn/info/1010/9319.htm\n",
      "http://www.sqnu.edu.cn/info/1010/9316.htm\n",
      "http://www.sqnu.edu.cn/info/1010/9313.htm\n",
      "http://www.sqnu.edu.cn/info/1010/9306.htm\n",
      "http://www.sqnu.edu.cn/info/1010/9303.htm\n",
      "http://www.sqnu.edu.cn/info/1010/9296.htm\n",
      "http://www.sqnu.edu.cn/info/1010/9317.htm\n",
      "http://www.sqnu.edu.cn/info/1010/9288.htm\n",
      "http://www.sqnu.edu.cn/info/1010/9284.htm\n",
      "http://www.sqnu.edu.cn/info/1010/9291.htm\n",
      "http://www.sqnu.edu.cn/info/1010/9316.htm\n",
      "http://www.sqnu.edu.cn/info/1010/9313.htm\n",
      "http://www.sqnu.edu.cn/info/1010/9306.htm\n",
      "http://www.sqnu.edu.cn/info/1010/9303.htm\n",
      "http://www.sqnu.edu.cn/info/1010/9296.htm\n",
      "http://www.sqnu.edu.cn/info/1010/9317.htm\n",
      "http://www.sqnu.edu.cn/info/1010/9288.htm\n",
      "http://www.sqnu.edu.cn/info/1010/9284.htm\n",
      "http://www.sqnu.edu.cn/info/1010/9291.htm\n",
      "http://www.sqnu.edu.cn/info/1010/9307.htm\n",
      "http://www.sqnu.edu.cn/info/1010/9259.htm\n",
      "http://www.sqnu.edu.cn/info/1010/9255.htm\n",
      "http://www.sqnu.edu.cn/info/1010/9254.htm\n",
      "http://www.sqnu.edu.cn/info/1010/9253.htm\n",
      "http://www.sqnu.edu.cn/info/1010/9251.htm\n",
      "http://www.sqnu.edu.cn/info/1010/9250.htm\n",
      "http://www.sqnu.edu.cn/info/1010/9249.htm\n",
      "http://www.sqnu.edu.cn/info/1010/9248.htm\n",
      "http://www.sqnu.edu.cn/info/1010/9245.htm\n",
      "http://www.sqnu.edu.cn/info/1010/9259.htm\n",
      "http://www.sqnu.edu.cn/info/1010/9255.htm\n",
      "http://www.sqnu.edu.cn/info/1010/9254.htm\n",
      "http://www.sqnu.edu.cn/info/1010/9253.htm\n",
      "http://www.sqnu.edu.cn/info/1010/9251.htm\n",
      "http://www.sqnu.edu.cn/info/1010/9250.htm\n",
      "http://www.sqnu.edu.cn/info/1010/9249.htm\n",
      "http://www.sqnu.edu.cn/info/1010/9248.htm\n",
      "http://www.sqnu.edu.cn/info/1010/9245.htm\n",
      "http://www.sqnu.edu.cn/info/1010/9243.htm\n",
      "http://www.sqnu.edu.cn/info/1010/9238.htm\n",
      "http://www.sqnu.edu.cn/info/1010/9237.htm\n",
      "http://www.sqnu.edu.cn/info/1010/9234.htm\n",
      "http://www.sqnu.edu.cn/info/1010/9233.htm\n",
      "http://www.sqnu.edu.cn/info/1010/9225.htm\n",
      "http://www.sqnu.edu.cn/info/1010/9224.htm\n",
      "http://www.sqnu.edu.cn/info/1010/9239.htm\n",
      "http://www.sqnu.edu.cn/info/1010/9221.htm\n",
      "http://www.sqnu.edu.cn/info/1010/9219.htm\n",
      "http://www.sqnu.edu.cn/info/1010/9238.htm\n",
      "http://www.sqnu.edu.cn/info/1010/9237.htm\n",
      "http://www.sqnu.edu.cn/info/1010/9234.htm\n",
      "http://www.sqnu.edu.cn/info/1010/9233.htm\n",
      "http://www.sqnu.edu.cn/info/1010/9225.htm\n",
      "http://www.sqnu.edu.cn/info/1010/9224.htm\n",
      "http://www.sqnu.edu.cn/info/1010/9239.htm\n",
      "http://www.sqnu.edu.cn/info/1010/9221.htm\n",
      "http://www.sqnu.edu.cn/info/1010/9219.htm\n",
      "http://www.sqnu.edu.cn/info/1010/9218.htm\n",
      "http://www.sqnu.edu.cn/info/1010/9217.htm\n",
      "http://www.sqnu.edu.cn/info/1010/9215.htm\n",
      "http://www.sqnu.edu.cn/info/1010/9211.htm\n",
      "http://www.sqnu.edu.cn/info/1010/9209.htm\n",
      "http://www.sqnu.edu.cn/info/1010/9210.htm\n",
      "http://www.sqnu.edu.cn/info/1010/9199.htm\n",
      "http://www.sqnu.edu.cn/info/1010/9177.htm\n",
      "http://www.sqnu.edu.cn/info/1010/9175.htm\n",
      "http://www.sqnu.edu.cn/info/1010/9167.htm\n",
      "http://www.sqnu.edu.cn/info/1010/9217.htm\n",
      "http://www.sqnu.edu.cn/info/1010/9215.htm\n",
      "http://www.sqnu.edu.cn/info/1010/9211.htm\n",
      "http://www.sqnu.edu.cn/info/1010/9209.htm\n",
      "http://www.sqnu.edu.cn/info/1010/9210.htm\n",
      "http://www.sqnu.edu.cn/info/1010/9199.htm\n",
      "http://www.sqnu.edu.cn/info/1010/9177.htm\n",
      "http://www.sqnu.edu.cn/info/1010/9175.htm\n",
      "http://www.sqnu.edu.cn/info/1010/9167.htm\n",
      "http://www.sqnu.edu.cn/info/1010/9166.htm\n",
      "http://www.sqnu.edu.cn/info/1010/9163.htm\n",
      "http://www.sqnu.edu.cn/info/1010/9162.htm\n",
      "http://www.sqnu.edu.cn/info/1010/9159.htm\n",
      "http://www.sqnu.edu.cn/info/1010/9157.htm\n",
      "http://www.sqnu.edu.cn/info/1010/9155.htm\n",
      "http://www.sqnu.edu.cn/info/1010/9154.htm\n",
      "http://www.sqnu.edu.cn/info/1010/9153.htm\n",
      "http://www.sqnu.edu.cn/info/1010/9161.htm\n",
      "http://www.sqnu.edu.cn/info/1010/9160.htm\n",
      "http://www.sqnu.edu.cn/info/1010/9163.htm\n",
      "http://www.sqnu.edu.cn/info/1010/9162.htm\n",
      "http://www.sqnu.edu.cn/info/1010/9159.htm\n",
      "http://www.sqnu.edu.cn/info/1010/9157.htm\n",
      "http://www.sqnu.edu.cn/info/1010/9155.htm\n",
      "http://www.sqnu.edu.cn/info/1010/9154.htm\n",
      "http://www.sqnu.edu.cn/info/1010/9153.htm\n",
      "http://www.sqnu.edu.cn/info/1010/9161.htm\n",
      "http://www.sqnu.edu.cn/info/1010/9160.htm\n",
      "http://www.sqnu.edu.cn/info/1010/9152.htm\n",
      "http://www.sqnu.edu.cn/info/1010/9150.htm\n",
      "http://www.sqnu.edu.cn/info/1010/9147.htm\n",
      "http://www.sqnu.edu.cn/info/1010/9145.htm\n",
      "http://www.sqnu.edu.cn/info/1010/9144.htm\n",
      "http://www.sqnu.edu.cn/info/1010/9143.htm\n",
      "http://www.sqnu.edu.cn/info/1010/9142.htm\n",
      "http://www.sqnu.edu.cn/info/1010/9141.htm\n",
      "http://www.sqnu.edu.cn/info/1010/9139.htm\n",
      "http://www.sqnu.edu.cn/info/1010/9130.htm\n",
      "http://www.sqnu.edu.cn/info/1010/9150.htm\n",
      "http://www.sqnu.edu.cn/info/1010/9147.htm\n",
      "http://www.sqnu.edu.cn/info/1010/9145.htm\n",
      "http://www.sqnu.edu.cn/info/1010/9144.htm\n",
      "http://www.sqnu.edu.cn/info/1010/9143.htm\n",
      "http://www.sqnu.edu.cn/info/1010/9142.htm\n",
      "http://www.sqnu.edu.cn/info/1010/9141.htm\n",
      "http://www.sqnu.edu.cn/info/1010/9139.htm\n",
      "http://www.sqnu.edu.cn/info/1010/9130.htm\n",
      "http://www.sqnu.edu.cn/info/1010/9121.htm\n",
      "http://www.sqnu.edu.cn/info/1010/9127.htm\n",
      "http://www.sqnu.edu.cn/info/1010/9124.htm\n",
      "http://www.sqnu.edu.cn/info/1010/9123.htm\n",
      "http://www.sqnu.edu.cn/info/1010/9115.htm\n",
      "http://www.sqnu.edu.cn/info/1010/9113.htm\n",
      "http://www.sqnu.edu.cn/info/1010/9105.htm\n",
      "http://www.sqnu.edu.cn/info/1010/9103.htm\n",
      "http://www.sqnu.edu.cn/info/1010/9102.htm\n",
      "http://www.sqnu.edu.cn/info/1010/9118.htm\n",
      "http://www.sqnu.edu.cn/info/1010/9127.htm\n",
      "http://www.sqnu.edu.cn/info/1010/9124.htm\n",
      "http://www.sqnu.edu.cn/info/1010/9123.htm\n",
      "http://www.sqnu.edu.cn/info/1010/9115.htm\n",
      "http://www.sqnu.edu.cn/info/1010/9113.htm\n",
      "http://www.sqnu.edu.cn/info/1010/9105.htm\n",
      "http://www.sqnu.edu.cn/info/1010/9103.htm\n",
      "http://www.sqnu.edu.cn/info/1010/9102.htm\n",
      "http://www.sqnu.edu.cn/info/1010/9118.htm\n",
      "http://www.sqnu.edu.cn/info/1010/9069.htm\n",
      "http://www.sqnu.edu.cn/info/1010/9068.htm\n",
      "http://www.sqnu.edu.cn/info/1010/9066.htm\n",
      "http://www.sqnu.edu.cn/info/1010/9073.htm\n",
      "http://www.sqnu.edu.cn/info/1010/9058.htm\n",
      "http://www.sqnu.edu.cn/info/1010/9045.htm\n",
      "http://www.sqnu.edu.cn/info/1010/9044.htm\n",
      "http://www.sqnu.edu.cn/info/1010/9042.htm\n",
      "http://www.sqnu.edu.cn/info/1010/9031.htm\n",
      "http://www.sqnu.edu.cn/info/1010/9026.htm\n"
     ]
    }
   ],
   "source": [
    "article_list = get_articles('http://www.sqnu.edu.cn/index/xxyw.htm', 10)"
   ]
  },
  {
   "cell_type": "code",
   "execution_count": 115,
   "metadata": {},
   "outputs": [],
   "source": [
    "article_list = ls"
   ]
  },
  {
   "cell_type": "markdown",
   "metadata": {},
   "source": [
    "<p style=\"font-family: Arial; font-size:1.5em;color:purple; font-style:bold\">\n",
    "将所有文章拼接起来，并分割为词条\n",
    "</p>"
   ]
  },
  {
   "cell_type": "code",
   "execution_count": 117,
   "metadata": {},
   "outputs": [],
   "source": [
    "import jieba"
   ]
  },
  {
   "cell_type": "code",
   "execution_count": 124,
   "metadata": {},
   "outputs": [
    {
     "data": {
      "text/plain": [
       "61756"
      ]
     },
     "execution_count": 124,
     "metadata": {},
     "output_type": "execute_result"
    }
   ],
   "source": [
    "text = ' '.join(article_list)\n",
    " \n",
    "word_list = []\n",
    "for word in jieba.cut(text):\n",
    "    w = word.strip()\n",
    "    if w != 'None':\n",
    "        word_list.append(w) \n",
    "len(word_list)"
   ]
  },
  {
   "cell_type": "markdown",
   "metadata": {},
   "source": [
    "<p style=\"font-family: Arial; font-size:1.5em;color:purple; font-style:bold\">\n",
    "绘制词云\n",
    "</p>"
   ]
  },
  {
   "cell_type": "code",
   "execution_count": 122,
   "metadata": {
    "collapsed": true
   },
   "outputs": [],
   "source": [
    "import matplotlib.pyplot as plt\n",
    "from wordcloud import WordCloud"
   ]
  },
  {
   "cell_type": "code",
   "execution_count": 127,
   "metadata": {},
   "outputs": [
    {
     "data": {
      "image/png": "[encoded data removed]",
      "text/plain": [
       "<matplotlib.figure.Figure at 0x117e7eda0>"
      ]
     },
     "metadata": {},
     "output_type": "display_data"
    }
   ],
   "source": [
    "words = ' '.join(word_list)\n",
    "wc = WordCloud(font_path='yahei.ttf').generate(words)\n",
    "plt.imshow(wc)\n",
    "plt.axis(\"off\")\n",
    "plt.show()"
   ]
  }
 ],
 "metadata": {
  "kernelspec": {
   "display_name": "Python 3",
   "language": "python",
   "name": "python3"
  },
  "language_info": {
   "codemirror_mode": {
    "name": "ipython",
    "version": 3
   },
   "file_extension": ".py",
   "mimetype": "text/x-python",
   "name": "python",
   "nbconvert_exporter": "python",
   "pygments_lexer": "ipython3",
   "version": "3.6.3"
  }
 },
 "nbformat": 4,
 "nbformat_minor": 2
}
